{
  "cells": [
    {
      "cell_type": "markdown",
      "metadata": {
        "id": "view-in-github",
        "colab_type": "text"
      },
      "source": [
        "<a href=\"https://colab.research.google.com/github/rmit-ir/Tutotrial-Practical-LLMs/blob/main/LLM_OpenRouter_Template.ipynb\" target=\"_parent\"><img src=\"https://colab.research.google.com/assets/colab-badge.svg\" alt=\"Open In Colab\"/></a>"
      ]
    },
    {
      "cell_type": "markdown",
      "metadata": {
        "id": "jeajlZWW4aQ5"
      },
      "source": [
        "# Install and import the necessary packages"
      ]
    },
    {
      "cell_type": "markdown",
      "source": [
        "\n",
        "*   ir_datasets (https://ir-datasets.com/) provides a collection of standard datasets for IR tasks\n",
        "*   Helps calculate Krippendorff's alpha to evaluate the consistency of ratings or annotations\n",
        "\n"
      ],
      "metadata": {
        "id": "GzK9TLtvGgTr"
      }
    },
    {
      "cell_type": "code",
      "execution_count": 3,
      "metadata": {
        "colab": {
          "base_uri": "https://localhost:8080/"
        },
        "collapsed": true,
        "id": "ux3GZINosj8-",
        "outputId": "0090eaba-d67f-400f-d808-21b745eeb201"
      },
      "outputs": [
        {
          "output_type": "stream",
          "name": "stdout",
          "text": [
            "Collecting ir_datasets\n",
            "  Downloading ir_datasets-0.5.10-py3-none-any.whl.metadata (12 kB)\n",
            "Requirement already satisfied: beautifulsoup4>=4.4.1 in /usr/local/lib/python3.11/dist-packages (from ir_datasets) (4.13.3)\n",
            "Collecting inscriptis>=2.2.0 (from ir_datasets)\n",
            "  Downloading inscriptis-2.5.3-py3-none-any.whl.metadata (25 kB)\n",
            "Requirement already satisfied: lxml>=4.5.2 in /usr/local/lib/python3.11/dist-packages (from ir_datasets) (5.3.1)\n",
            "Requirement already satisfied: numpy>=1.18.1 in /usr/local/lib/python3.11/dist-packages (from ir_datasets) (2.0.2)\n",
            "Requirement already satisfied: pyyaml>=5.3.1 in /usr/local/lib/python3.11/dist-packages (from ir_datasets) (6.0.2)\n",
            "Requirement already satisfied: requests>=2.22.0 in /usr/local/lib/python3.11/dist-packages (from ir_datasets) (2.32.3)\n",
            "Requirement already satisfied: tqdm>=4.38.0 in /usr/local/lib/python3.11/dist-packages (from ir_datasets) (4.67.1)\n",
            "Collecting trec-car-tools>=2.5.4 (from ir_datasets)\n",
            "  Downloading trec_car_tools-2.6-py3-none-any.whl.metadata (640 bytes)\n",
            "Collecting lz4>=3.1.10 (from ir_datasets)\n",
            "  Downloading lz4-4.4.3-cp311-cp311-manylinux_2_17_x86_64.manylinux2014_x86_64.whl.metadata (3.8 kB)\n",
            "Collecting warc3-wet>=0.2.3 (from ir_datasets)\n",
            "  Downloading warc3_wet-0.2.5-py3-none-any.whl.metadata (2.2 kB)\n",
            "Collecting warc3-wet-clueweb09>=0.2.5 (from ir_datasets)\n",
            "  Downloading warc3-wet-clueweb09-0.2.5.tar.gz (17 kB)\n",
            "  Preparing metadata (setup.py) ... \u001b[?25l\u001b[?25hdone\n",
            "Collecting zlib-state>=0.1.3 (from ir_datasets)\n",
            "  Downloading zlib_state-0.1.9-cp311-cp311-manylinux_2_17_x86_64.manylinux2014_x86_64.whl.metadata (3.3 kB)\n",
            "Collecting ijson>=3.1.3 (from ir_datasets)\n",
            "  Downloading ijson-3.3.0-cp311-cp311-manylinux_2_17_x86_64.manylinux2014_x86_64.whl.metadata (21 kB)\n",
            "Collecting unlzw3>=0.2.1 (from ir_datasets)\n",
            "  Downloading unlzw3-0.2.3-py3-none-any.whl.metadata (2.3 kB)\n",
            "Requirement already satisfied: pyarrow>=16.1.0 in /usr/local/lib/python3.11/dist-packages (from ir_datasets) (18.1.0)\n",
            "Requirement already satisfied: soupsieve>1.2 in /usr/local/lib/python3.11/dist-packages (from beautifulsoup4>=4.4.1->ir_datasets) (2.6)\n",
            "Requirement already satisfied: typing-extensions>=4.0.0 in /usr/local/lib/python3.11/dist-packages (from beautifulsoup4>=4.4.1->ir_datasets) (4.12.2)\n",
            "Requirement already satisfied: charset-normalizer<4,>=2 in /usr/local/lib/python3.11/dist-packages (from requests>=2.22.0->ir_datasets) (3.4.1)\n",
            "Requirement already satisfied: idna<4,>=2.5 in /usr/local/lib/python3.11/dist-packages (from requests>=2.22.0->ir_datasets) (3.10)\n",
            "Requirement already satisfied: urllib3<3,>=1.21.1 in /usr/local/lib/python3.11/dist-packages (from requests>=2.22.0->ir_datasets) (2.3.0)\n",
            "Requirement already satisfied: certifi>=2017.4.17 in /usr/local/lib/python3.11/dist-packages (from requests>=2.22.0->ir_datasets) (2025.1.31)\n",
            "Collecting cbor>=1.0.0 (from trec-car-tools>=2.5.4->ir_datasets)\n",
            "  Downloading cbor-1.0.0.tar.gz (20 kB)\n",
            "  Preparing metadata (setup.py) ... \u001b[?25l\u001b[?25hdone\n",
            "Downloading ir_datasets-0.5.10-py3-none-any.whl (859 kB)\n",
            "\u001b[2K   \u001b[90m━━━━━━━━━━━━━━━━━━━━━━━━━━━━━━━━━━━━━━━━\u001b[0m \u001b[32m859.0/859.0 kB\u001b[0m \u001b[31m23.1 MB/s\u001b[0m eta \u001b[36m0:00:00\u001b[0m\n",
            "\u001b[?25hDownloading ijson-3.3.0-cp311-cp311-manylinux_2_17_x86_64.manylinux2014_x86_64.whl (119 kB)\n",
            "\u001b[2K   \u001b[90m━━━━━━━━━━━━━━━━━━━━━━━━━━━━━━━━━━━━━━━━\u001b[0m \u001b[32m119.2/119.2 kB\u001b[0m \u001b[31m8.4 MB/s\u001b[0m eta \u001b[36m0:00:00\u001b[0m\n",
            "\u001b[?25hDownloading inscriptis-2.5.3-py3-none-any.whl (45 kB)\n",
            "\u001b[2K   \u001b[90m━━━━━━━━━━━━━━━━━━━━━━━━━━━━━━━━━━━━━━━━\u001b[0m \u001b[32m45.4/45.4 kB\u001b[0m \u001b[31m2.9 MB/s\u001b[0m eta \u001b[36m0:00:00\u001b[0m\n",
            "\u001b[?25hDownloading lz4-4.4.3-cp311-cp311-manylinux_2_17_x86_64.manylinux2014_x86_64.whl (1.3 MB)\n",
            "\u001b[2K   \u001b[90m━━━━━━━━━━━━━━━━━━━━━━━━━━━━━━━━━━━━━━━━\u001b[0m \u001b[32m1.3/1.3 MB\u001b[0m \u001b[31m53.5 MB/s\u001b[0m eta \u001b[36m0:00:00\u001b[0m\n",
            "\u001b[?25hDownloading trec_car_tools-2.6-py3-none-any.whl (8.4 kB)\n",
            "Downloading unlzw3-0.2.3-py3-none-any.whl (6.7 kB)\n",
            "Downloading warc3_wet-0.2.5-py3-none-any.whl (18 kB)\n",
            "Downloading zlib_state-0.1.9-cp311-cp311-manylinux_2_17_x86_64.manylinux2014_x86_64.whl (21 kB)\n",
            "Building wheels for collected packages: warc3-wet-clueweb09, cbor\n",
            "  Building wheel for warc3-wet-clueweb09 (setup.py) ... \u001b[?25l\u001b[?25hdone\n",
            "  Created wheel for warc3-wet-clueweb09: filename=warc3_wet_clueweb09-0.2.5-py3-none-any.whl size=18920 sha256=20ed52cb8a5b0d91943f33c46da096e79dd6aea72d8275982c03147eb323195e\n",
            "  Stored in directory: /root/.cache/pip/wheels/63/f9/dc/2dd16d3330e327236e4d407941975c42d5159d200cdb7922d8\n",
            "  Building wheel for cbor (setup.py) ... \u001b[?25l\u001b[?25hdone\n",
            "  Created wheel for cbor: filename=cbor-1.0.0-cp311-cp311-linux_x86_64.whl size=53931 sha256=ca4275fa18e41c01a46abe5fe904fccca6b13c78782a396469f267902db37318\n",
            "  Stored in directory: /root/.cache/pip/wheels/21/6b/45/0c34253b1af07d1d9dc524f6d44d74a6b191c43152e6aaf641\n",
            "Successfully built warc3-wet-clueweb09 cbor\n",
            "Installing collected packages: warc3-wet-clueweb09, warc3-wet, ijson, cbor, zlib-state, unlzw3, trec-car-tools, lz4, inscriptis, ir_datasets\n",
            "Successfully installed cbor-1.0.0 ijson-3.3.0 inscriptis-2.5.3 ir_datasets-0.5.10 lz4-4.4.3 trec-car-tools-2.6 unlzw3-0.2.3 warc3-wet-0.2.5 warc3-wet-clueweb09-0.2.5 zlib-state-0.1.9\n",
            "Collecting krippendorff\n",
            "  Downloading krippendorff-0.8.1-py3-none-any.whl.metadata (3.0 kB)\n",
            "Requirement already satisfied: numpy<3,>=1.21 in /usr/local/lib/python3.11/dist-packages (from krippendorff) (2.0.2)\n",
            "Downloading krippendorff-0.8.1-py3-none-any.whl (18 kB)\n",
            "Installing collected packages: krippendorff\n",
            "Successfully installed krippendorff-0.8.1\n"
          ]
        }
      ],
      "source": [
        "%pip install ir_datasets\n",
        "%pip install krippendorff"
      ]
    },
    {
      "cell_type": "code",
      "source": [
        "import requests  # Allows you to send HTTP requests, useful for interacting with APIs or web scraping\n",
        "import json  # Provides methods for working with JSON data\n",
        "import pandas as pd  # Provides data structures and functions needed to manipulate structured data\n",
        "import ir_datasets  # A package for handling information retrieval datasets\n",
        "import krippendorff  # A library for calculating Krippendorff's alpha, a measure of agreement or reliability between raters\n",
        "import re  # Provides regular expression operations for text pattern\n",
        "import textwrap  # Used for formatting and wrapping text, useful for displaying text in a readable way\n",
        "import numpy as np  # A package for scientific computing in Python\n",
        "\n",
        "import seaborn as sns  # A data visualization library\n",
        "import matplotlib.pyplot as plt  # A widely used library for creating static, animated, and interactive plots\n",
        "from sklearn.metrics import confusion_matrix, ConfusionMatrixDisplay  # Provides tools for evaluating machine learning models, especially confusion matrices\n",
        "from google.colab import userdata  # Provides access to user-specific information and utilities in Google Colab environments"
      ],
      "metadata": {
        "id": "KtyFRuZGH0Dc"
      },
      "execution_count": 4,
      "outputs": []
    },
    {
      "cell_type": "code",
      "execution_count": 5,
      "metadata": {
        "id": "mXpm7q1Asjjt"
      },
      "outputs": [],
      "source": [
        "VERBOSE = 0  # # 'VERBOSE' controls the level of logging or output that is displayed (0: no output, 1: some output, 2: all output)\n",
        "\n",
        "# set line wrap for print, lower for smaller screens\n",
        "WRAP = 100 # Defines the maximum line width for wrapping text\n",
        "printw = lambda x: print(textwrap.fill(x, WRAP)) # Create a lambda function that wraps text to fit within the specified width (WRAP)"
      ]
    },
    {
      "cell_type": "markdown",
      "metadata": {
        "id": "CzyC-yWf4kFe"
      },
      "source": [
        "# Load the first dataset and print some basic stats"
      ]
    },
    {
      "cell_type": "code",
      "source": [
        "# Define the collection ID of the dataset you want to load\n",
        "collection_id = \"antique/test/non-offensive\"\n",
        "\n",
        "# Load the dataset using the 'ir_datasets' package\n",
        "# This loads the dataset identified by 'collection_id', which contains documents, queries, and relevance judgments\n",
        "dataset = ir_datasets.load(collection_id)\n",
        "\n",
        "\n",
        "# Access the document store (a collection of documents in the dataset)\n",
        "docstore = dataset.docs_store()\n",
        "\n",
        "print(\"\\n\", \"--*--\" * 15, \"\\n\") # Print a separator line to make the output more readable\n",
        "\n",
        "# Print the number of documents in the dataset\n",
        "# 'docs_count()' retrieves the number of documents in the dataset and formats it with commas for readability\n",
        "print(\n",
        "    f\"Number of documents in {collection_id.capitalize()} dataset: {dataset.docs_count():,d}\"\n",
        ")\n",
        "\n",
        "# Print the number of queries in the dataset\n",
        "print(\n",
        "    f\"Number of queries in {collection_id.capitalize()} dataset: {dataset.queries_count():,d}\"\n",
        ")\n",
        "\n",
        "\n",
        "# Print the number of qrels (query-document relevance judgments) in the dataset\n",
        "print(\n",
        "    f\"Number of qrels in full {collection_id.capitalize()} dataset: {dataset.qrels_count():,d}\"\n",
        ")\n",
        "\n",
        "print(\"\\n\", \"--*--\" * 15, \"\\n\") # Print a separator line to make the output more readable\n",
        "\n",
        "# Handling the loading and display of qrels (query-document relevance judgments)\n",
        "try:\n",
        "    # Attempt to load qrels and show the first few rows if available\n",
        "    qrels_df = pd.DataFrame(list(dataset.qrels_iter()))\n",
        "    print(\"\\nFirst few rows of qrels:\")\n",
        "    print(qrels_df.head())  # Display the first few rows of qrels for verification\n",
        "except AttributeError: # If the dataset does not have qrels, handle the exception\n",
        "    print(\"The dataset does not seem to have qrels.\")\n",
        "\n",
        "print(\"\\n\", \"--*--\" * 15, \"\\n\") # Print a separator line to make the output more readable"
      ],
      "metadata": {
        "colab": {
          "base_uri": "https://localhost:8080/"
        },
        "id": "4GMtnufOJU9u",
        "outputId": "6e6286c4-6ba8-4a57-ef34-675df1a1cba4"
      },
      "execution_count": 6,
      "outputs": [
        {
          "output_type": "stream",
          "name": "stdout",
          "text": [
            "\n",
            " --*----*----*----*----*----*----*----*----*----*----*----*----*----*----*-- \n",
            "\n",
            "Number of documents in Antique/test/non-offensive dataset: 403,666\n",
            "Number of queries in Antique/test/non-offensive dataset: 176\n",
            "Number of qrels in full Antique/test/non-offensive dataset: 5,752\n",
            "\n",
            " --*----*----*----*----*----*----*----*----*----*----*----*----*----*----*-- \n",
            "\n"
          ]
        },
        {
          "output_type": "stream",
          "name": "stderr",
          "text": [
            "[INFO] Please confirm you agree to the authors' data usage agreement found at <https://ciir.cs.umass.edu/downloads/Antique/readme.txt>\n",
            "[INFO] [starting] https://ciir.cs.umass.edu/downloads/Antique/test-queries-blacklist.txt\n",
            "[INFO] [finished] https://ciir.cs.umass.edu/downloads/Antique/test-queries-blacklist.txt: [00:00] [184B] [655kB/s]\n",
            "[INFO] [starting] https://ciir.cs.umass.edu/downloads/Antique/antique-test.qrel\n",
            "[INFO] [finished] https://ciir.cs.umass.edu/downloads/Antique/antique-test.qrel: [00:00] [150kB] [714kB/s]\n",
            "                                                                                        "
          ]
        },
        {
          "output_type": "stream",
          "name": "stdout",
          "text": [
            "\n",
            "First few rows of qrels:\n",
            "  query_id      doc_id  relevance iteration\n",
            "0  1964316   1964316_5          4        U0\n",
            "1  1964316  1674088_11          1        Q0\n",
            "2  1964316  1218838_13          2        Q0\n",
            "3  1964316  1519022_15          2        Q0\n",
            "4  1964316   3059341_5          2        Q0\n",
            "\n",
            " --*----*----*----*----*----*----*----*----*----*----*----*----*----*----*-- \n",
            "\n"
          ]
        },
        {
          "output_type": "stream",
          "name": "stderr",
          "text": [
            "\r"
          ]
        }
      ]
    },
    {
      "cell_type": "markdown",
      "source": [
        "# Create new dataframes for further analysis\n",
        "\n"
      ],
      "metadata": {
        "id": "rKApY_1GQeV4"
      }
    },
    {
      "cell_type": "code",
      "source": [
        "# Create a DataFrame for queries by iterating through all queries in the dataset\n",
        "queries_df = pd.DataFrame(dataset.queries_iter()).set_index(\"query_id\")\n",
        "\n",
        "# Convert the query_id index to string type\n",
        "queries_df.index = queries_df.index.astype(str)\n",
        "\n",
        "# Create a DataFrame for relevance judgments (qrels) by iterating through all qrels in the dataset\n",
        "qrels_df = pd.DataFrame(dataset.qrels_iter())"
      ],
      "metadata": {
        "colab": {
          "base_uri": "https://localhost:8080/"
        },
        "id": "ZbeAYGKUKUfF",
        "outputId": "3d0224b6-6008-4291-e885-270b110d1dea"
      },
      "execution_count": 7,
      "outputs": [
        {
          "output_type": "stream",
          "name": "stderr",
          "text": [
            "[INFO] [starting] https://ciir.cs.umass.edu/downloads/Antique/antique-test-queries.txt\n",
            "[INFO] [finished] https://ciir.cs.umass.edu/downloads/Antique/antique-test-queries.txt: [00:00] [11.4kB] [178kB/s]\n"
          ]
        }
      ]
    },
    {
      "cell_type": "markdown",
      "source": [
        "# Select a small portion of queries (20) and documents for inspection of the dataset"
      ],
      "metadata": {
        "id": "L8UfLkM-Qp8j"
      }
    },
    {
      "cell_type": "code",
      "source": [
        "print(\"\\n\", \"--*--\" * 15, \"\\n\") # Print a separator line to make the output more readable\n",
        "\n",
        "# Set the number of queries to select\n",
        "qn = 20\n",
        "print(f\"For this example we select only the first {qn} queries\")\n",
        "\n",
        "# Select the first 20 rows from the 'queries_df' DataFrame to work with only a subset of queries\n",
        "queries_df = queries_df[:qn]\n",
        "\n",
        "# Filter the relevance judgments (qrels) to only include those with query_ids in the selected queries\n",
        "qrels_df = qrels_df.loc[qrels_df[\"query_id\"].isin(queries_df.index)]\n",
        "\n",
        "# Set the number of documents to sample per query\n",
        "dn = 5\n",
        "print(f\"For this example we sample only {dn} documents per query\")\n",
        "\n",
        "# Sample a fixed number of documents per query (without replacement) from the filtered qrels\n",
        "qrels_df = qrels_df.groupby(\"query_id\").sample(n=dn, replace=False, random_state=2703)\n",
        "\n",
        "# Print the number of queries and qrels after filtering and sampling\n",
        "print(f\"Number of queries after filtering: {len(queries_df)}\")\n",
        "print(f\"Number of qrels after filtering: {len(qrels_df)}\")\n",
        "\n",
        "print(\"\\n\", \"--*--\" * 15, \"\\n\")"
      ],
      "metadata": {
        "colab": {
          "base_uri": "https://localhost:8080/"
        },
        "id": "QVwuQlJtLKAD",
        "outputId": "20d2781c-e537-46cd-ff69-724038433fa6"
      },
      "execution_count": 8,
      "outputs": [
        {
          "output_type": "stream",
          "name": "stdout",
          "text": [
            "\n",
            " --*----*----*----*----*----*----*----*----*----*----*----*----*----*----*-- \n",
            "\n",
            "For this example we select only the first 20 queries\n",
            "For this example we sample only 5 documents per query\n",
            "Number of queries after filtering: 20\n",
            "Number of qrels after filtering: 100\n",
            "\n",
            " --*----*----*----*----*----*----*----*----*----*----*----*----*----*----*-- \n",
            "\n"
          ]
        }
      ]
    },
    {
      "cell_type": "code",
      "execution_count": 9,
      "metadata": {
        "colab": {
          "base_uri": "https://localhost:8080/"
        },
        "id": "0-4r7HsCO-3z",
        "outputId": "71ccf192-1953-4c94-bb70-2781243e01ef"
      },
      "outputs": [
        {
          "output_type": "stream",
          "name": "stdout",
          "text": [
            "\n",
            " --*----*----*----*----*----*----*----*----*----*----*----*----*----*----*-- \n",
            "\n",
            "Queries dataframe:\n",
            "                                                       text\n",
            "query_id                                                   \n",
            "1287437                  how can i lose 30 pounds by june3?\n",
            "1351675   Why must I have an uncracked winshield in orde...\n",
            "1702151                       How patient a driver are you?\n",
            "1783010                                  What is Blaphsemy?\n",
            "1844896                          How to cook Angus burgers?\n",
            "1880028   What does \"see Leaflet\" mean on Ept Pregnancy ...\n",
            "2142044   What do you speculate happened to Natalie Holl...\n",
            "2484180    why do people judge a dog by what he looks like?\n",
            "2528767   How do I determine the charge of the iron ion ...\n",
            "2799913   What's the proper way to express sorrow at a f...\n",
            "2814599   what does the word remission mean when referri...\n",
            "2956570   What are the words to write the sound of raind...\n",
            "3698636                               why do cats headbutt?\n",
            "3990512           how can we get concentration onsomething?\n",
            "4448097                            what is innate immunity?\n",
            "676028    Why do our elected federal senators and congre...\n",
            "707303    How do people get hiccups, what are they, and ...\n",
            "714612    Why doesn't the water fall off  earth if it's ...\n",
            "821387       I have mice.How do I get rid of them humanely?\n",
            "851124         How is ego a part of our survival instincts?\n",
            "\n",
            " --*----*----*----*----*----*----*----*----*----*----*----*----*----*----*-- \n",
            "\n",
            "Qrels dataframe:\n",
            "     query_id      doc_id  relevance iteration\n",
            "4335  1287437   2489233_8          4        Q0\n",
            "4326  1287437   956682_15          4        Q0\n",
            "4314  1287437    671806_0          2        Q0\n",
            "4324  1287437   1287437_4          3        Q0\n",
            "4342  1287437   1768249_5          1        Q0\n",
            "...       ...         ...        ...       ...\n",
            "2193   851124   4320631_5          1        Q0\n",
            "2167   851124  2762948_14          2        E0\n",
            "2176   851124   3964333_5          2        Q0\n",
            "2191   851124    279279_3          1        Q0\n",
            "2170   851124  4271823_11          1        Q0\n",
            "\n",
            "[100 rows x 4 columns]\n",
            "\n",
            " --*----*----*----*----*----*----*----*----*----*----*----*----*----*----*-- \n",
            "\n"
          ]
        }
      ],
      "source": [
        "print(\"\\n\", \"--*--\" * 15, \"\\n\")\n",
        "print(\"Queries dataframe:\")\n",
        "print(queries_df.sort_index()) # Sort the queries dataframe by its index (query_id) in ascending order\n",
        "\n",
        "print(\"\\n\", \"--*--\" * 15, \"\\n\")\n",
        "print(\"Qrels dataframe:\")\n",
        "print(qrels_df)\n",
        "\n",
        "print(\"\\n\", \"--*--\" * 15, \"\\n\")"
      ]
    },
    {
      "cell_type": "markdown",
      "source": [
        "# Print the definitions of the relevance labels between 1 and 4"
      ],
      "metadata": {
        "id": "7LUu5W0gSt45"
      }
    },
    {
      "cell_type": "code",
      "source": [
        "qrels_def = \"\".join(\n",
        "    [textwrap.fill(f\"{k}: {v}\", WRAP) + \"\\n\" for k, v in dataset.qrels_defs().items()]\n",
        ")\n",
        "\n",
        "print(\"Qrels definitions:\\n\")\n",
        "print(qrels_def) # Print the formatted qrels definitions"
      ],
      "metadata": {
        "colab": {
          "base_uri": "https://localhost:8080/"
        },
        "id": "V9J3ppreSrl6",
        "outputId": "822a2ae8-3635-4054-ad1d-050b044931ed"
      },
      "execution_count": 10,
      "outputs": [
        {
          "output_type": "stream",
          "name": "stdout",
          "text": [
            "Qrels definitions:\n",
            "\n",
            "4: It looks reasonable and convincing. Its quality is on parwith or better than the \"Possibly\n",
            "Correct Answer\". Note that it does not have to provide the same answer as the \"PossiblyCorrect\n",
            "Answer\".\n",
            "3: It can be an answer to the question, however, it is notsufficiently convincing. There should be\n",
            "an answer with much better quality for the question.\n",
            "2: It does not answer the question or if it does, it provides anunreasonable answer, however, it is\n",
            "not out of context. Therefore, you cannot accept it as an answer to the question.\n",
            "1: It is completely out of context or does not make any sense.\n",
            "\n"
          ]
        }
      ]
    },
    {
      "cell_type": "markdown",
      "source": [
        "# Check relevance labels in the dataset"
      ],
      "metadata": {
        "id": "HxRLM7kmTVA-"
      }
    },
    {
      "cell_type": "code",
      "source": [
        "# Check the range of relevance values and find the minimum and maximum relevance scores in the dataset\n",
        "min_rel = qrels_df[\"relevance\"].min()  # Get the lowest relevance value\n",
        "max_rel = qrels_df[\"relevance\"].max()  # Get the highest relevance value\n",
        "\n",
        "# Print the min and max relevance values for reference\n",
        "print(f\"The minimum relevance in the dataset is: {min_rel} and maximum relevance: {max_rel}\\n\")\n",
        "\n",
        "\n",
        "# Plot the distribution of relevance values using a histogram\n",
        "sns.histplot(\n",
        "    qrels_df.sort_values(\"relevance\").astype(str),  # Sort and convert to string for visualization\n",
        "    x=\"relevance\",  # Specify 'relevance' as the x-axis variable\n",
        "    discrete=True    # Treat relevance values as discrete categories\n",
        ")\n",
        "\n",
        "# Display the histogram plot\n",
        "plt.show()\n",
        "\n",
        "# Count occurrences of each relevance value and sort them in ascending order\n",
        "qrels_df[\"relevance\"].value_counts().sort_index()"
      ],
      "metadata": {
        "colab": {
          "base_uri": "https://localhost:8080/",
          "height": 710
        },
        "id": "Lx9B_T8KTeeK",
        "outputId": "1628b070-dc4a-451d-9453-6abc03c202ef"
      },
      "execution_count": 11,
      "outputs": [
        {
          "output_type": "stream",
          "name": "stdout",
          "text": [
            "The minimum relevance in the dataset is: 1 and maximum relevance: 4\n",
            "\n"
          ]
        },
        {
          "output_type": "display_data",
          "data": {
            "text/plain": [
              "<Figure size 640x480 with 1 Axes>"
            ],
            "image/png": "[encoded data removed]"
          },
          "metadata": {}
        },
        {
          "output_type": "execute_result",
          "data": {
            "text/plain": [
              "relevance\n",
              "1    27\n",
              "2    37\n",
              "3    20\n",
              "4    16\n",
              "Name: count, dtype: int64"
            ],
            "text/html": [
              "<div>\n",
              "<style scoped>\n",
              "    .dataframe tbody tr th:only-of-type {\n",
              "        vertical-align: middle;\n",
              "    }\n",
              "\n",
              "    .dataframe tbody tr th {\n",
              "        vertical-align: top;\n",
              "    }\n",
              "\n",
              "    .dataframe thead th {\n",
              "        text-align: right;\n",
              "    }\n",
              "</style>\n",
              "<table border=\"1\" class=\"dataframe\">\n",
              "  <thead>\n",
              "    <tr style=\"text-align: right;\">\n",
              "      <th></th>\n",
              "      <th>count</th>\n",
              "    </tr>\n",
              "    <tr>\n",
              "      <th>relevance</th>\n",
              "      <th></th>\n",
              "    </tr>\n",
              "  </thead>\n",
              "  <tbody>\n",
              "    <tr>\n",
              "      <th>1</th>\n",
              "      <td>27</td>\n",
              "    </tr>\n",
              "    <tr>\n",
              "      <th>2</th>\n",
              "      <td>37</td>\n",
              "    </tr>\n",
              "    <tr>\n",
              "      <th>3</th>\n",
              "      <td>20</td>\n",
              "    </tr>\n",
              "    <tr>\n",
              "      <th>4</th>\n",
              "      <td>16</td>\n",
              "    </tr>\n",
              "  </tbody>\n",
              "</table>\n",
              "</div><br><label><b>dtype:</b> int64</label>"
            ]
          },
          "metadata": {},
          "execution_count": 11
        }
      ]
    },
    {
      "cell_type": "code",
      "execution_count": 13,
      "metadata": {
        "colab": {
          "base_uri": "https://localhost:8080/"
        },
        "id": "sPRKVRAs2Crd",
        "outputId": "11c7adf8-6ff6-4dbb-dab9-4cbfd4e88eab"
      },
      "outputs": [
        {
          "output_type": "stream",
          "name": "stdout",
          "text": [
            "\n",
            " --*----*----*----*----*----*----*----*----*----*----*----*----*----*----*-- \n",
            "\n",
            "Random row from qrels:\n",
            "    query_id    doc_id  relevance iteration\n",
            "863  4448097  827475_3          1        Q0\n",
            "The relevance of document 827475_3 to query 4448097 is: 1\n",
            "\n",
            " --*----*----*----*----*----*----*----*----*----*----*----*----*----*----*-- \n",
            "\n",
            "Query 4448097:\n",
            "what is innate immunity? \n",
            "\n",
            "Document 827475_3:\n",
            "Document's text: I believe that being cold lowers your immune system and since your immune system is\n",
            "what you need to fight colds, you are at higher risk for catching something when it is cold outside\n",
            "and you have a lot of exposure to those elements.\n"
          ]
        }
      ],
      "source": [
        "# Print one random relevance judgment from Qrels\n",
        "print(\"\\n\", \"--*--\" * 15, \"\\n\")\n",
        "random_qrel_row = qrels_df.sample(n=1, random_state=2703)\n",
        "print(f\"Random row from qrels:\\n{random_qrel_row}\")\n",
        "qid, doc_id, relevance, _ = random_qrel_row.to_numpy()[0]\n",
        "\n",
        "print(f\"The relevance of document {doc_id} to query {qid} is: {relevance}\")\n",
        "\n",
        "# Print the query and document from the relevance judgment\n",
        "print(\"\\n\", \"--*--\" * 15, \"\\n\")\n",
        "print(f\"Query {qid}:\") #print query ID\n",
        "print(queries_df.loc[qid, \"text\"], \"\\n\") #print the corresponding query\n",
        "\n",
        "doc = docstore.get(doc_id)\n",
        "print(f\"Document {doc.doc_id}:\") #print document ID\n",
        "printw(f\"Document's text:\\n{doc.text}\") #print the corresponding document"
      ]
    },
    {
      "cell_type": "markdown",
      "metadata": {
        "id": "zwUUeALR4zH6"
      },
      "source": [
        "# Create instructions prompts\n",
        "Create a relevance judgment prompt template. The prompt is a template that will\n",
        "be filled with the query and document text. Note using an f-string with `{variable}` that will be filled\n",
        "immediately, and `{{variable}}` that will be filled in later. The prompt template should look like this:\n",
        "```python\n",
        "prompt_template = \"\"\"\n",
        "You are [...]\n",
        "Query: {query}\n",
        "Document: {document}\n",
        "\"\"\"\n",
        "```"
      ]
    },
    {
      "cell_type": "markdown",
      "source": [
        "## Defining the prompt"
      ],
      "metadata": {
        "id": "PYG7HxV2Wh0V"
      }
    },
    {
      "cell_type": "code",
      "source": [
        "_prompt = f\"\"\"Judge the relevance of the following document to the given query.\n",
        "Output a relevance score based on the following scale:\n",
        "\n",
        "{qrels_def}\n",
        "If the document is completely irrelevant to the query, output {min_rel}.\n",
        "Otherwise, output a relevance score between {int(min_rel) + 1} and {max_rel}.\n",
        "\n",
        "The response should be a single number between {min_rel} and {max_rel}.\n",
        "Provide only a single score without any additional text.\n",
        "\n",
        "Query:\n",
        "{{query}}\n",
        "\n",
        "Document:\n",
        "{{document}}\n",
        "\"\"\""
      ],
      "metadata": {
        "id": "Y7-5m3f3WgXJ"
      },
      "execution_count": 14,
      "outputs": []
    },
    {
      "cell_type": "markdown",
      "source": [
        "## Print out the prompt template"
      ],
      "metadata": {
        "id": "ld_2guwfWrcn"
      }
    },
    {
      "cell_type": "code",
      "source": [
        "print(\"Prompt template:\")\n",
        "print(_prompt)"
      ],
      "metadata": {
        "id": "v24QUV1_WpUS",
        "outputId": "b1783dd4-fd2f-4250-8ae1-852773e8f3bc",
        "colab": {
          "base_uri": "https://localhost:8080/"
        }
      },
      "execution_count": 15,
      "outputs": [
        {
          "output_type": "stream",
          "name": "stdout",
          "text": [
            "Prompt template:\n",
            "Judge the relevance of the following document to the given query.\n",
            "Output a relevance score based on the following scale:\n",
            "\n",
            "4: It looks reasonable and convincing. Its quality is on parwith or better than the \"Possibly\n",
            "Correct Answer\". Note that it does not have to provide the same answer as the \"PossiblyCorrect\n",
            "Answer\".\n",
            "3: It can be an answer to the question, however, it is notsufficiently convincing. There should be\n",
            "an answer with much better quality for the question.\n",
            "2: It does not answer the question or if it does, it provides anunreasonable answer, however, it is\n",
            "not out of context. Therefore, you cannot accept it as an answer to the question.\n",
            "1: It is completely out of context or does not make any sense.\n",
            "\n",
            "If the document is completely irrelevant to the query, output 1.\n",
            "Otherwise, output a relevance score between 2 and 4.\n",
            "\n",
            "The response should be a single number between 1 and 4.\n",
            "Provide only a single score without any additional text.\n",
            "\n",
            "Query:\n",
            "{query}\n",
            "\n",
            "Document:\n",
            "{document}\n",
            "\n"
          ]
        }
      ]
    },
    {
      "cell_type": "markdown",
      "source": [
        "## Print a message to indicate the upcoming example prompt"
      ],
      "metadata": {
        "id": "EBaEKX5NW8nV"
      }
    },
    {
      "cell_type": "code",
      "execution_count": 16,
      "metadata": {
        "colab": {
          "base_uri": "https://localhost:8080/"
        },
        "id": "-Zs6Tauj5caB",
        "outputId": "dbab7f54-7509-4be0-8fa6-8906c8b6fcb6"
      },
      "outputs": [
        {
          "output_type": "stream",
          "name": "stdout",
          "text": [
            "An example of the prompt with a query and document:\n",
            "Judge the relevance of the following document to the given query.\n",
            "Output a relevance score based on the following scale:\n",
            "\n",
            "4: It looks reasonable and convincing. Its quality is on parwith or better than the \"Possibly\n",
            "Correct Answer\". Note that it does not have to provide the same answer as the \"PossiblyCorrect\n",
            "Answer\".\n",
            "3: It can be an answer to the question, however, it is notsufficiently convincing. There should be\n",
            "an answer with much better quality for the question.\n",
            "2: It does not answer the question or if it does, it provides anunreasonable answer, however, it is\n",
            "not out of context. Therefore, you cannot accept it as an answer to the question.\n",
            "1: It is completely out of context or does not make any sense.\n",
            "\n",
            "If the document is completely irrelevant to the query, output 1.\n",
            "Otherwise, output a relevance score between 2 and 4.\n",
            "\n",
            "The response should be a single number between 1 and 4.\n",
            "Provide only a single score without any additional text.\n",
            "\n",
            "Query:\n",
            "how can we get concentration onsomething?\n",
            "\n",
            "Document:\n",
            "Well... depends on the laws in your country ot state. Basically, it\n",
            "only works with en expired driver's license. If your driver's licence\n",
            "is expired less than 5 years, you may renew your licence without\n",
            "taking any written, vision or road tests. You will be required to\n",
            "complete a driver's licence questionnaire and pay applicable fees for\n",
            "the class of licence you hold.\n",
            "\n"
          ]
        }
      ],
      "source": [
        "print(\"An example of the prompt with a query and document:\")\n",
        "\n",
        "# Format and print the prompt using a query and a document from the dataset\n",
        "print(\n",
        "    _prompt.format(\n",
        "        query=queries_df.iloc[0].text,  # Retrieve the text of the first query\n",
        "        document=textwrap.fill(docstore.get(qrels_df.iloc[10].doc_id).text)  # Retrieve document nr 10\n",
        "    )\n",
        ")"
      ]
    },
    {
      "cell_type": "markdown",
      "metadata": {
        "id": "n5MgUlH64_u0"
      },
      "source": [
        "# Define functions for model API calls and response parsing"
      ]
    },
    {
      "cell_type": "markdown",
      "source": [
        "This `get_response` function is responsible for:\n",
        "\n",
        "1.   Sending a request to the OpenRouter API with our specified prompt and model\n",
        "2.   Receiving the response from the model via the OpenRouter API\n",
        "3.   Returning the model's response\n",
        "\n"
      ],
      "metadata": {
        "id": "dzU2mqldbEP2"
      }
    },
    {
      "cell_type": "code",
      "execution_count": 17,
      "metadata": {
        "id": "7LReDtNrqFxN"
      },
      "outputs": [],
      "source": [
        "def get_response(prompt: str, model: str, verbose: int = VERBOSE, **model_kwargs) -> dict:\n",
        "    \"\"\"\n",
        "    Get a response from the OpenRouter API using the given prompt and model.\n",
        "    Make sure to set your OpenRouter API key in the environment variable\n",
        "    OPENROUTER_API_KEY. OpenRouter normalizes requests and responses across\n",
        "    providers. That is, you can use the same code to call different models from\n",
        "    different providers.\n",
        "    Args:\n",
        "        prompt (str): The prompt to send to the model.\n",
        "        model (str): The model to use.\n",
        "        verbose (int): Verbosity level for debugging.\n",
        "        **model_kwargs: Additional keyword arguments for the model.\n",
        "            - top_p: Top-p sampling parameter.\n",
        "            - temperature: Temperature parameter for sampling.\n",
        "            - frequency_penalty: Frequency penalty parameter.\n",
        "            - presence_penalty: Presence penalty parameter.\n",
        "            - repetition_penalty: Repetition penalty parameter.\n",
        "            - top_k: Top-k sampling parameter.\n",
        "    Note: The model_kwargs parameters are optional and will be set to default values if not provided.\n",
        "    Returns:\n",
        "        dict: The response from the model.\n",
        "    \"\"\"\n",
        "    # Check if model parameter is provided, if not, set a default value\n",
        "    top_p = model_kwargs.get(\"top_p\", 1)\n",
        "    temperature = model_kwargs.get(\"temperature\", 0.9)\n",
        "    frequency_penalty = model_kwargs.get(\"frequency_penalty\", 0)\n",
        "    presence_penalty = model_kwargs.get(\"presence_penalty\", 0)\n",
        "    repetition_penalty = model_kwargs.get(\"repetition_penalty\", 1)\n",
        "    top_k = model_kwargs.get(\"top_k\", 0)\n",
        "\n",
        "    messages = [{\"role\": \"user\", \"content\": prompt}]\n",
        "\n",
        "    response = requests.post(\n",
        "        url=\"https://openrouter.ai/api/v1/chat/completions\",\n",
        "        headers={\"Authorization\": f\"Bearer {userdata.get('OPENROUTER_API_KEY')}\"},\n",
        "        data=json.dumps(\n",
        "            {\n",
        "                \"model\": model,\n",
        "                \"messages\": messages,\n",
        "                \"top_p\": top_p,\n",
        "                \"temperature\": temperature,\n",
        "                \"frequency_penalty\": frequency_penalty,\n",
        "                \"presence_penalty\": presence_penalty,\n",
        "                \"repetition_penalty\": repetition_penalty,\n",
        "                \"top_k\": top_k,\n",
        "            }\n",
        "        ),\n",
        "    )\n",
        "    if verbose > 0:\n",
        "        print(f\"Response status code: {response.status_code}\")\n",
        "    response_json = response.json()\n",
        "    # let's print how many tokens we used, it can be useful for cost estimation\n",
        "    if verbose > 0:\n",
        "        print(f\"Response usage: {response_json.get('usage')}\")\n",
        "    return response_json"
      ]
    },
    {
      "cell_type": "markdown",
      "source": [
        "## The `parse_answer_from_text` function is responsible for extracting scores"
      ],
      "metadata": {
        "id": "1y9Ztj1lbztU"
      }
    },
    {
      "cell_type": "code",
      "source": [
        "def parse_answer_from_text(text: str, verbose: int = VERBOSE) -> str:\n",
        "    \"\"\"\n",
        "    Parse the answer from the text returned by the model.\n",
        "    The function looks for digits in the text and returns the last one found.\n",
        "    If there are multiple digits, it tries to extract the first score\n",
        "    window of up to 5 terms after the word \"score\".\n",
        "    If no digits are found, it returns an empty string.\n",
        "    Args:\n",
        "        text (str): The text to parse.\n",
        "        verbose (int): Verbosity level for debugging.\n",
        "    Returns:\n",
        "        str: The parsed answer.\n",
        "    \"\"\"\n",
        "    score = \"\"\n",
        "    all_digits = re.findall(r\"\\d+\", text)\n",
        "    if all_digits:\n",
        "        score = all_digits[-1]\n",
        "    else:\n",
        "        if verbose > 0:\n",
        "            print(\"Couldn't parse any digits from the response\")\n",
        "            print(f\"all_digits: {all_digits}\")\n",
        "            print(f\"Text: {text} \\nEnd of Text\\n\")\n",
        "            print(\"\\n\", \"-=return=-\" * 10, \"\\n\")\n",
        "        return \"\"\n",
        "    if len(all_digits) > 1:\n",
        "        # if multiple digits try to extract the first score\n",
        "        # window of up to 5 terms after the \"score\"\n",
        "        try:\n",
        "            score_window = \" \".join(text.lower().split(\"score\")[-1].split()[:5])\n",
        "            score = re.findall(r\"\\d+\", score_window)[0]\n",
        "            if verbose > 1:\n",
        "                print(f\"Text: {text} \\nEnd of Text\\n\")\n",
        "                print(f\"score_window: {score_window}\")\n",
        "        except IndexError:\n",
        "            if verbose > 0:\n",
        "                print(\"Couldn't find score window\")\n",
        "                print(f\"Text: {text} \\nEnd of Text\\n\")\n",
        "    # print(f'All digits: {all_digits}')\n",
        "    # print(f'Extracted Score: {score}')\n",
        "    # print('\\n', '-=return=-' * 10, '\\n')\n",
        "    return score"
      ],
      "metadata": {
        "id": "2tEWUQvPbyt1"
      },
      "execution_count": 30,
      "outputs": []
    },
    {
      "cell_type": "markdown",
      "source": [
        "## Available models in OpenRouter\n",
        "- Models are categorized as free (marked with \":free\") or paid with varying pricing\n",
        "- Models may change over time - check current availability and pricing at: ttps://openrouter.ai/models\n",
        "\n",
        "Note: Different models have varying token limits and optimal hyperparameter settings"
      ],
      "metadata": {
        "id": "C49RMGOUcxiv"
      }
    },
    {
      "cell_type": "code",
      "source": [
        "MODEL = {\n",
        "    \"llama-free\": \"meta-llama/llama-3.3-70b-instruct:free\",\n",
        "    \"deepseek-r1-free\": \"deepseek/deepseek-r1-distill-llama-70b:free\",\n",
        "    \"deepseek-r1-qwen\": \"deepseek/deepseek-r1-distill-qwen-1.5b\",\n",
        "    \"gemini-flash-2\": \"google/gemini-2.0-flash-001\",\n",
        "    \"gemini-pro-2\": \"google/gemini-2.0-pro-exp-02-05:free\",\n",
        "    \"gemini-flash-2free\": \"google/gemini-2.0-flash-exp:free\",\n",
        "    \"gemma-3-4b\": \"google/gemma-3-4b-it:free\",\n",
        "    \"llama-3.2-1b\": \"meta-llama/llama-3.2-1b-instruct\",\n",
        "    \"gpt-4o-mini\": \"openai/gpt-4o-mini\",\n",
        "}"
      ],
      "metadata": {
        "id": "xeZR2lwZcwQJ"
      },
      "execution_count": 31,
      "outputs": []
    },
    {
      "cell_type": "markdown",
      "metadata": {
        "id": "t0NsPuPh5O4d"
      },
      "source": [
        "# Generate the relevance predictions for the first dataset"
      ]
    },
    {
      "cell_type": "markdown",
      "source": [
        "## Function `generate_relevance_predictions` using the OpenRouter API"
      ],
      "metadata": {
        "id": "5bOtc7zVgiIu"
      }
    },
    {
      "cell_type": "code",
      "execution_count": 32,
      "metadata": {
        "collapsed": true,
        "id": "HQbxDjtnOTuz"
      },
      "outputs": [],
      "source": [
        "def generate_relevance_predictions(\n",
        "    qrel_df: pd.DataFrame,\n",
        "    docs,\n",
        "    query_df: pd.DataFrame,\n",
        "    prompt: str,\n",
        "    model: str,\n",
        "    verbose: int = VERBOSE,\n",
        ") -> tuple:\n",
        "    \"\"\"\n",
        "    Generate relevance predictions using the OpenRouter API.\n",
        "    Args:\n",
        "        qrel_df (DataFrame): The qrel DataFrame.\n",
        "        docs (DataFrame or Lz4FullStore): The document store.\n",
        "        query_df (DataFrame): The query DataFrame.\n",
        "        prompt (str): The prompt template.\n",
        "        model (str): The model to use.\n",
        "        verbose (int): Verbosity level for debugging.\n",
        "    Returns:\n",
        "        dict: The relevance predictions.\n",
        "        dict: The reasoning results.\n",
        "        list: The raw responses from the model.\n",
        "    \"\"\"\n",
        "    results = {}\n",
        "    reasoning_results = {}\n",
        "    raw_responses = []  # for debugging, logging and backup\n",
        "\n",
        "    for index, row in qrel_df.iterrows():\n",
        "        qid, doc_id = row[\"query_id\"], row[\"doc_id\"]\n",
        "        if isinstance(docs, ir_datasets.indices.lz4_pickle.PickleLz4FullStore):\n",
        "            doc = docs.get(doc_id)\n",
        "        else:\n",
        "            doc = docs.loc[doc_id]\n",
        "        prompt_text = prompt.format(\n",
        "            query=query_df.loc[qid, \"text\"], document=doc.text\n",
        "        )  # adding a query and document to the prompt\n",
        "        if verbose > 0:\n",
        "            print(f\"Running for {qid, doc_id}\")\n",
        "            if verbose > 1:\n",
        "                print(f\"Prompt for {qid, doc_id}:\")\n",
        "                printw(prompt_text)\n",
        "        response_json = get_response(prompt=prompt_text, model=model, verbose=verbose)\n",
        "        raw_responses.append(response_json)\n",
        "        response_message = response_json.get(\"choices\", {0: {\"message\": None}})[0][\n",
        "            \"message\"\n",
        "        ]\n",
        "        if response_message is None:\n",
        "            print(f\"No response message for {qid, doc_id}\")\n",
        "            print(response_json.get(\"error\"))\n",
        "            continue\n",
        "        if verbose > 1:\n",
        "            print(f\"Response for {qid, doc_id}:\")\n",
        "            printw(f\"Response message: {response_message}\")\n",
        "            print(\"\\n\", \"-=\" * 5, \" End of response \", \"=-\" * 5, \"\\n\")\n",
        "        response_content = response_message.get(\"content\", None)\n",
        "        reasoning_results[qid, doc_id] = response_message.get(\"reasoning\", None)\n",
        "        results[qid, doc_id] = response_content\n",
        "    return results, reasoning_results, raw_responses"
      ]
    },
    {
      "cell_type": "markdown",
      "source": [
        "# Run the `generate_relevance_predictions` function with the OpenRouter API"
      ],
      "metadata": {
        "id": "YrwiW_kBgs-o"
      }
    },
    {
      "cell_type": "markdown",
      "source": [
        "This line runs the relevance prediction model for the first time using the `generate_relevance_predictions` function. It processes a set of queries and documents using the model we specify in `MODEL`.\n",
        "\n",
        "## The Input includes\n",
        "- `qrels_df` → DataFrame containing ground-truth relevance labels for query-document pairs\n",
        "- `docstore` → A structured dataset of available documents\n",
        "- `queries_df` → DataFrame containing the queries to be processed\n",
        "- `_prompt` → The prompt template used to generate model responses\n",
        "- `MODEL[\"gpt-4o-mini\"]` → The specific model being used (GPT-4o-mini)"
      ],
      "metadata": {
        "id": "HkyvzQzEhETp"
      }
    },
    {
      "cell_type": "code",
      "execution_count": 33,
      "metadata": {
        "id": "YsAC_oxI1q2W"
      },
      "outputs": [],
      "source": [
        "# Run the model for the first time\n",
        "# Note: This takes ~2 minutes\n",
        "first_results, first_reasoning_results, first_raw_responses = (\n",
        "    generate_relevance_predictions(\n",
        "        qrels_df,\n",
        "        docstore,\n",
        "        queries_df,\n",
        "        _prompt,\n",
        "        model=MODEL[\"gpt-4o-mini\"],\n",
        "    )\n",
        ")"
      ]
    },
    {
      "cell_type": "markdown",
      "source": [
        "## The `compute_total_tokens_used` function calculates the total number of tokens used by a language model during inference. It extracts token usage statistics from a list of raw model responses."
      ],
      "metadata": {
        "id": "epFyppP_ijHH"
      }
    },
    {
      "cell_type": "code",
      "execution_count": 34,
      "metadata": {
        "colab": {
          "base_uri": "https://localhost:8080/"
        },
        "id": "IFOQQebOzwzB",
        "outputId": "6a4be439-dcd9-438c-ba5b-33e7c714920d"
      },
      "outputs": [
        {
          "output_type": "stream",
          "name": "stdout",
          "text": [
            "Total input tokens used: 29,396\n",
            "Total output tokens used: 200\n",
            "Total tokens used: 29,596\n"
          ]
        },
        {
          "output_type": "execute_result",
          "data": {
            "text/plain": [
              "(29396, 200, 29596)"
            ]
          },
          "metadata": {},
          "execution_count": 34
        }
      ],
      "source": [
        "def compute_total_tokens_used(raw_responses: list) -> tuple:\n",
        "    \"\"\"\n",
        "    Compute the total number of tokens used in the responses.\n",
        "    Args:\n",
        "        raw_responses (list): The raw responses from the model.\n",
        "    Returns:\n",
        "        tuple: The total number of input, output, and total tokens used.\n",
        "    \"\"\"\n",
        "    total_input_tokens = sum(\n",
        "        [response_json[\"usage\"][\"prompt_tokens\"] for response_json in raw_responses]\n",
        "    )\n",
        "    print(f\"Total input tokens used: {total_input_tokens:,d}\")\n",
        "    total_output_tokens = sum(\n",
        "        [response_json[\"usage\"][\"completion_tokens\"] for response_json in raw_responses]\n",
        "    )\n",
        "    print(f\"Total output tokens used: {total_output_tokens:,d}\")\n",
        "    total_tokens = sum(\n",
        "        [response_json[\"usage\"][\"total_tokens\"] for response_json in raw_responses]\n",
        "    )\n",
        "    print(f\"Total tokens used: {total_tokens:,d}\")\n",
        "    return total_input_tokens, total_output_tokens, total_tokens\n",
        "\n",
        "\n",
        "compute_total_tokens_used(first_raw_responses)"
      ]
    },
    {
      "cell_type": "markdown",
      "metadata": {
        "id": "Pb87tOZD5XXj"
      },
      "source": [
        "# Evaluate the relevance judgments of the first dataset"
      ]
    },
    {
      "cell_type": "code",
      "execution_count": 35,
      "metadata": {
        "collapsed": true,
        "id": "ZCnDdNPBJ4Qp"
      },
      "outputs": [],
      "source": [
        "def parse_results_to_df(\n",
        "    results: dict, reasoning_results=None, scores_range=(-1, 4), verbose: int = VERBOSE\n",
        ") -> pd.DataFrame:\n",
        "    \"\"\"\n",
        "    Parse the results from the model into a DataFrame.\n",
        "    Args:\n",
        "        results (dict): The results from the model.\n",
        "        reasoning_results (dict): The reasoning results from the model.\n",
        "        scores_range (tuple): The range of scores to use.\n",
        "        verbose (int): Verbosity level for debugging.\n",
        "    Returns:\n",
        "        DataFrame: The parsed results as a DataFrame.\n",
        "    \"\"\"\n",
        "    min_score, max_score = scores_range\n",
        "    p_df = pd.DataFrame.from_dict(results, orient=\"index\")\n",
        "    p_df.index = pd.MultiIndex.from_tuples(p_df.index)\n",
        "    p_df.index.names = [\"query_id\", \"doc_id\"]\n",
        "    p_df.columns = [\"predicted\"]\n",
        "    p_df[\"predicted\"] = p_df[\"predicted\"].apply(parse_answer_from_text, args=[verbose])\n",
        "\n",
        "    if reasoning_results is not None:\n",
        "        # fill empty predictions from the reasoning field in raw responses\n",
        "        for index, row in p_df.loc[p_df[\"predicted\"] == \"\"].iterrows():\n",
        "            qid, doc_id = index\n",
        "            if verbose > 1:\n",
        "                print(f\"Empty prediction for {qid, doc_id}\")\n",
        "                print(f\"Raw response text: {results[qid, doc_id]}\\n\")\n",
        "            if reasoning_results[qid, doc_id] is not None:\n",
        "                p_df.loc[index, \"predicted\"] = parse_answer_from_text(\n",
        "                    reasoning_results[qid, doc_id], verbose=verbose\n",
        "                )\n",
        "            else:\n",
        "                if verbose > 0:\n",
        "                    print(f\"No response or reasoning for: {qid, doc_id}\")\n",
        "                    print(f\"Setting min score: {min_score}\")\n",
        "                p_df.loc[index, \"predicted\"] = str(min_score)\n",
        "\n",
        "    p_df.loc[p_df[\"predicted\"].isin({\"\", 0, \"0\", None})] = str(min_score)\n",
        "    return p_df.astype(int).clip(lower=min_score, upper=max_score)\n",
        "\n",
        "\n",
        "first_predictions_df = parse_results_to_df(\n",
        "    first_results, first_reasoning_results, scores_range=(min_rel, max_rel)\n",
        ")"
      ]
    },
    {
      "cell_type": "code",
      "execution_count": 86,
      "metadata": {
        "colab": {
          "base_uri": "https://localhost:8080/",
          "height": 2628
        },
        "id": "Gr_tg02FLEkE",
        "outputId": "40507825-6798-4782-9ed8-837f44905b6b"
      },
      "outputs": [
        {
          "output_type": "stream",
          "name": "stdout",
          "text": [
            "Shape of merged df: (100, 5)\n"
          ]
        },
        {
          "output_type": "display_data",
          "data": {
            "text/plain": [
              "<Figure size 1200x400 with 2 Axes>"
            ],
            "image/png": "[encoded data removed]"
          },
          "metadata": {}
        },
        {
          "output_type": "stream",
          "name": "stdout",
          "text": [
            "\n",
            "\n"
          ]
        },
        {
          "output_type": "display_data",
          "data": {
            "text/plain": [
              "<Figure size 640x480 with 2 Axes>"
            ],
            "image/png": "[encoded data removed]"
          },
          "metadata": {}
        },
        {
          "output_type": "stream",
          "name": "stdout",
          "text": [
            "\n",
            "\n",
            "Krippendorff's alpha: 0.37\n",
            "Spearman's correlation: 0.58\n",
            "------------------------------ Binary Relevance Eval ------------------------------\n"
          ]
        },
        {
          "output_type": "display_data",
          "data": {
            "text/plain": [
              "<Figure size 640x480 with 1 Axes>"
            ],
            "image/png": "[encoded data removed]"
          },
          "metadata": {}
        },
        {
          "output_type": "stream",
          "name": "stdout",
          "text": [
            "\n",
            "\n"
          ]
        },
        {
          "output_type": "display_data",
          "data": {
            "text/plain": [
              "<Figure size 640x480 with 2 Axes>"
            ],
            "image/png": "[encoded data removed]"
          },
          "metadata": {}
        },
        {
          "output_type": "stream",
          "name": "stdout",
          "text": [
            "\n",
            "\n",
            "Krippendorff's alpha: 0.14\n"
          ]
        },
        {
          "output_type": "execute_result",
          "data": {
            "text/plain": [
              "      predicted query_id      doc_id  relevance iteration\n",
              "4342          1  1287437   1768249_5          1        Q0\n",
              "1279          1  1351675   2720201_4          1        Q0\n",
              "2068          1  1702151   388224_10          1        Q0\n",
              "2066          1  1702151   2859083_3          1        Q0\n",
              "221           1  1844896   1854996_2          1        Q0\n",
              "...         ...      ...         ...        ...       ...\n",
              "5204          4  1783010   1783010_9          4        Q0\n",
              "5194          4  1783010   1783010_2          4        Q0\n",
              "5197          4  1783010  1783010_17          4        Q0\n",
              "4980          4  3698636   3698636_0          4        U0\n",
              "1440          4   714612    714612_5          4        Q0\n",
              "\n",
              "[100 rows x 5 columns]"
            ],
            "text/html": [
              "\n",
              "  <div id=\"df-9f961566-f6f2-432c-80b8-bd5eb37e5e43\" class=\"colab-df-container\">\n",
              "    <div>\n",
              "<style scoped>\n",
              "    .dataframe tbody tr th:only-of-type {\n",
              "        vertical-align: middle;\n",
              "    }\n",
              "\n",
              "    .dataframe tbody tr th {\n",
              "        vertical-align: top;\n",
              "    }\n",
              "\n",
              "    .dataframe thead th {\n",
              "        text-align: right;\n",
              "    }\n",
              "</style>\n",
              "<table border=\"1\" class=\"dataframe\">\n",
              "  <thead>\n",
              "    <tr style=\"text-align: right;\">\n",
              "      <th></th>\n",
              "      <th>predicted</th>\n",
              "      <th>query_id</th>\n",
              "      <th>doc_id</th>\n",
              "      <th>relevance</th>\n",
              "      <th>iteration</th>\n",
              "    </tr>\n",
              "  </thead>\n",
              "  <tbody>\n",
              "    <tr>\n",
              "      <th>4342</th>\n",
              "      <td>1</td>\n",
              "      <td>1287437</td>\n",
              "      <td>1768249_5</td>\n",
              "      <td>1</td>\n",
              "      <td>Q0</td>\n",
              "    </tr>\n",
              "    <tr>\n",
              "      <th>1279</th>\n",
              "      <td>1</td>\n",
              "      <td>1351675</td>\n",
              "      <td>2720201_4</td>\n",
              "      <td>1</td>\n",
              "      <td>Q0</td>\n",
              "    </tr>\n",
              "    <tr>\n",
              "      <th>2068</th>\n",
              "      <td>1</td>\n",
              "      <td>1702151</td>\n",
              "      <td>388224_10</td>\n",
              "      <td>1</td>\n",
              "      <td>Q0</td>\n",
              "    </tr>\n",
              "    <tr>\n",
              "      <th>2066</th>\n",
              "      <td>1</td>\n",
              "      <td>1702151</td>\n",
              "      <td>2859083_3</td>\n",
              "      <td>1</td>\n",
              "      <td>Q0</td>\n",
              "    </tr>\n",
              "    <tr>\n",
              "      <th>221</th>\n",
              "      <td>1</td>\n",
              "      <td>1844896</td>\n",
              "      <td>1854996_2</td>\n",
              "      <td>1</td>\n",
              "      <td>Q0</td>\n",
              "    </tr>\n",
              "    <tr>\n",
              "      <th>...</th>\n",
              "      <td>...</td>\n",
              "      <td>...</td>\n",
              "      <td>...</td>\n",
              "      <td>...</td>\n",
              "      <td>...</td>\n",
              "    </tr>\n",
              "    <tr>\n",
              "      <th>5204</th>\n",
              "      <td>4</td>\n",
              "      <td>1783010</td>\n",
              "      <td>1783010_9</td>\n",
              "      <td>4</td>\n",
              "      <td>Q0</td>\n",
              "    </tr>\n",
              "    <tr>\n",
              "      <th>5194</th>\n",
              "      <td>4</td>\n",
              "      <td>1783010</td>\n",
              "      <td>1783010_2</td>\n",
              "      <td>4</td>\n",
              "      <td>Q0</td>\n",
              "    </tr>\n",
              "    <tr>\n",
              "      <th>5197</th>\n",
              "      <td>4</td>\n",
              "      <td>1783010</td>\n",
              "      <td>1783010_17</td>\n",
              "      <td>4</td>\n",
              "      <td>Q0</td>\n",
              "    </tr>\n",
              "    <tr>\n",
              "      <th>4980</th>\n",
              "      <td>4</td>\n",
              "      <td>3698636</td>\n",
              "      <td>3698636_0</td>\n",
              "      <td>4</td>\n",
              "      <td>U0</td>\n",
              "    </tr>\n",
              "    <tr>\n",
              "      <th>1440</th>\n",
              "      <td>4</td>\n",
              "      <td>714612</td>\n",
              "      <td>714612_5</td>\n",
              "      <td>4</td>\n",
              "      <td>Q0</td>\n",
              "    </tr>\n",
              "  </tbody>\n",
              "</table>\n",
              "<p>100 rows × 5 columns</p>\n",
              "</div>\n",
              "    <div class=\"colab-df-buttons\">\n",
              "\n",
              "  <div class=\"colab-df-container\">\n",
              "    <button class=\"colab-df-convert\" onclick=\"convertToInteractive('df-9f961566-f6f2-432c-80b8-bd5eb37e5e43')\"\n",
              "            title=\"Convert this dataframe to an interactive table.\"\n",
              "            style=\"display:none;\">\n",
              "\n",
              "  <svg xmlns=\"http://www.w3.org/2000/svg\" height=\"24px\" viewBox=\"0 -960 960 960\">\n",
              "    <path d=\"M120-120v-720h720v720H120Zm60-500h600v-160H180v160Zm220 220h160v-160H400v160Zm0 220h160v-160H400v160ZM180-400h160v-160H180v160Zm440 0h160v-160H620v160ZM180-180h160v-160H180v160Zm440 0h160v-160H620v160Z\"/>\n",
              "  </svg>\n",
              "    </button>\n",
              "\n",
              "  <style>\n",
              "    .colab-df-container {\n",
              "      display:flex;\n",
              "      gap: 12px;\n",
              "    }\n",
              "\n",
              "    .colab-df-convert {\n",
              "      background-color: #E8F0FE;\n",
              "      border: none;\n",
              "      border-radius: 50%;\n",
              "      cursor: pointer;\n",
              "      display: none;\n",
              "      fill: #1967D2;\n",
              "      height: 32px;\n",
              "      padding: 0 0 0 0;\n",
              "      width: 32px;\n",
              "    }\n",
              "\n",
              "    .colab-df-convert:hover {\n",
              "      background-color: #E2EBFA;\n",
              "      box-shadow: 0px 1px 2px rgba(60, 64, 67, 0.3), 0px 1px 3px 1px rgba(60, 64, 67, 0.15);\n",
              "      fill: #174EA6;\n",
              "    }\n",
              "\n",
              "    .colab-df-buttons div {\n",
              "      margin-bottom: 4px;\n",
              "    }\n",
              "\n",
              "    [theme=dark] .colab-df-convert {\n",
              "      background-color: #3B4455;\n",
              "      fill: #D2E3FC;\n",
              "    }\n",
              "\n",
              "    [theme=dark] .colab-df-convert:hover {\n",
              "      background-color: #434B5C;\n",
              "      box-shadow: 0px 1px 3px 1px rgba(0, 0, 0, 0.15);\n",
              "      filter: drop-shadow(0px 1px 2px rgba(0, 0, 0, 0.3));\n",
              "      fill: #FFFFFF;\n",
              "    }\n",
              "  </style>\n",
              "\n",
              "    <script>\n",
              "      const buttonEl =\n",
              "        document.querySelector('#df-9f961566-f6f2-432c-80b8-bd5eb37e5e43 button.colab-df-convert');\n",
              "      buttonEl.style.display =\n",
              "        google.colab.kernel.accessAllowed ? 'block' : 'none';\n",
              "\n",
              "      async function convertToInteractive(key) {\n",
              "        const element = document.querySelector('#df-9f961566-f6f2-432c-80b8-bd5eb37e5e43');\n",
              "        const dataTable =\n",
              "          await google.colab.kernel.invokeFunction('convertToInteractive',\n",
              "                                                    [key], {});\n",
              "        if (!dataTable) return;\n",
              "\n",
              "        const docLinkHtml = 'Like what you see? Visit the ' +\n",
              "          '<a target=\"_blank\" href=https://colab.research.google.com/notebooks/data_table.ipynb>data table notebook</a>'\n",
              "          + ' to learn more about interactive tables.';\n",
              "        element.innerHTML = '';\n",
              "        dataTable['output_type'] = 'display_data';\n",
              "        await google.colab.output.renderOutput(dataTable, element);\n",
              "        const docLink = document.createElement('div');\n",
              "        docLink.innerHTML = docLinkHtml;\n",
              "        element.appendChild(docLink);\n",
              "      }\n",
              "    </script>\n",
              "  </div>\n",
              "\n",
              "\n",
              "<div id=\"df-e0cf8c39-b891-4250-8952-81d9e6d6b71e\">\n",
              "  <button class=\"colab-df-quickchart\" onclick=\"quickchart('df-e0cf8c39-b891-4250-8952-81d9e6d6b71e')\"\n",
              "            title=\"Suggest charts\"\n",
              "            style=\"display:none;\">\n",
              "\n",
              "<svg xmlns=\"http://www.w3.org/2000/svg\" height=\"24px\"viewBox=\"0 0 24 24\"\n",
              "     width=\"24px\">\n",
              "    <g>\n",
              "        <path d=\"M19 3H5c-1.1 0-2 .9-2 2v14c0 1.1.9 2 2 2h14c1.1 0 2-.9 2-2V5c0-1.1-.9-2-2-2zM9 17H7v-7h2v7zm4 0h-2V7h2v10zm4 0h-2v-4h2v4z\"/>\n",
              "    </g>\n",
              "</svg>\n",
              "  </button>\n",
              "\n",
              "<style>\n",
              "  .colab-df-quickchart {\n",
              "      --bg-color: #E8F0FE;\n",
              "      --fill-color: #1967D2;\n",
              "      --hover-bg-color: #E2EBFA;\n",
              "      --hover-fill-color: #174EA6;\n",
              "      --disabled-fill-color: #AAA;\n",
              "      --disabled-bg-color: #DDD;\n",
              "  }\n",
              "\n",
              "  [theme=dark] .colab-df-quickchart {\n",
              "      --bg-color: #3B4455;\n",
              "      --fill-color: #D2E3FC;\n",
              "      --hover-bg-color: #434B5C;\n",
              "      --hover-fill-color: #FFFFFF;\n",
              "      --disabled-bg-color: #3B4455;\n",
              "      --disabled-fill-color: #666;\n",
              "  }\n",
              "\n",
              "  .colab-df-quickchart {\n",
              "    background-color: var(--bg-color);\n",
              "    border: none;\n",
              "    border-radius: 50%;\n",
              "    cursor: pointer;\n",
              "    display: none;\n",
              "    fill: var(--fill-color);\n",
              "    height: 32px;\n",
              "    padding: 0;\n",
              "    width: 32px;\n",
              "  }\n",
              "\n",
              "  .colab-df-quickchart:hover {\n",
              "    background-color: var(--hover-bg-color);\n",
              "    box-shadow: 0 1px 2px rgba(60, 64, 67, 0.3), 0 1px 3px 1px rgba(60, 64, 67, 0.15);\n",
              "    fill: var(--button-hover-fill-color);\n",
              "  }\n",
              "\n",
              "  .colab-df-quickchart-complete:disabled,\n",
              "  .colab-df-quickchart-complete:disabled:hover {\n",
              "    background-color: var(--disabled-bg-color);\n",
              "    fill: var(--disabled-fill-color);\n",
              "    box-shadow: none;\n",
              "  }\n",
              "\n",
              "  .colab-df-spinner {\n",
              "    border: 2px solid var(--fill-color);\n",
              "    border-color: transparent;\n",
              "    border-bottom-color: var(--fill-color);\n",
              "    animation:\n",
              "      spin 1s steps(1) infinite;\n",
              "  }\n",
              "\n",
              "  @keyframes spin {\n",
              "    0% {\n",
              "      border-color: transparent;\n",
              "      border-bottom-color: var(--fill-color);\n",
              "      border-left-color: var(--fill-color);\n",
              "    }\n",
              "    20% {\n",
              "      border-color: transparent;\n",
              "      border-left-color: var(--fill-color);\n",
              "      border-top-color: var(--fill-color);\n",
              "    }\n",
              "    30% {\n",
              "      border-color: transparent;\n",
              "      border-left-color: var(--fill-color);\n",
              "      border-top-color: var(--fill-color);\n",
              "      border-right-color: var(--fill-color);\n",
              "    }\n",
              "    40% {\n",
              "      border-color: transparent;\n",
              "      border-right-color: var(--fill-color);\n",
              "      border-top-color: var(--fill-color);\n",
              "    }\n",
              "    60% {\n",
              "      border-color: transparent;\n",
              "      border-right-color: var(--fill-color);\n",
              "    }\n",
              "    80% {\n",
              "      border-color: transparent;\n",
              "      border-right-color: var(--fill-color);\n",
              "      border-bottom-color: var(--fill-color);\n",
              "    }\n",
              "    90% {\n",
              "      border-color: transparent;\n",
              "      border-bottom-color: var(--fill-color);\n",
              "    }\n",
              "  }\n",
              "</style>\n",
              "\n",
              "  <script>\n",
              "    async function quickchart(key) {\n",
              "      const quickchartButtonEl =\n",
              "        document.querySelector('#' + key + ' button');\n",
              "      quickchartButtonEl.disabled = true;  // To prevent multiple clicks.\n",
              "      quickchartButtonEl.classList.add('colab-df-spinner');\n",
              "      try {\n",
              "        const charts = await google.colab.kernel.invokeFunction(\n",
              "            'suggestCharts', [key], {});\n",
              "      } catch (error) {\n",
              "        console.error('Error during call to suggestCharts:', error);\n",
              "      }\n",
              "      quickchartButtonEl.classList.remove('colab-df-spinner');\n",
              "      quickchartButtonEl.classList.add('colab-df-quickchart-complete');\n",
              "    }\n",
              "    (() => {\n",
              "      let quickchartButtonEl =\n",
              "        document.querySelector('#df-e0cf8c39-b891-4250-8952-81d9e6d6b71e button');\n",
              "      quickchartButtonEl.style.display =\n",
              "        google.colab.kernel.accessAllowed ? 'block' : 'none';\n",
              "    })();\n",
              "  </script>\n",
              "</div>\n",
              "\n",
              "    </div>\n",
              "  </div>\n"
            ],
            "application/vnd.google.colaboratory.intrinsic+json": {
              "type": "dataframe",
              "summary": "{\n  \"name\": \"evaluate_relevance_predictions(first_predictions_df, qrels_df)\",\n  \"rows\": 100,\n  \"fields\": [\n    {\n      \"column\": \"predicted\",\n      \"properties\": {\n        \"dtype\": \"number\",\n        \"std\": 0,\n        \"min\": 1,\n        \"max\": 4,\n        \"num_unique_values\": 4,\n        \"samples\": [\n          2,\n          4,\n          1\n        ],\n        \"semantic_type\": \"\",\n        \"description\": \"\"\n      }\n    },\n    {\n      \"column\": \"query_id\",\n      \"properties\": {\n        \"dtype\": \"category\",\n        \"num_unique_values\": 20,\n        \"samples\": [\n          \"1287437\",\n          \"821387\",\n          \"2799913\"\n        ],\n        \"semantic_type\": \"\",\n        \"description\": \"\"\n      }\n    },\n    {\n      \"column\": \"doc_id\",\n      \"properties\": {\n        \"dtype\": \"string\",\n        \"num_unique_values\": 100,\n        \"samples\": [\n          \"1783010_8\",\n          \"3964333_5\",\n          \"676028_4\"\n        ],\n        \"semantic_type\": \"\",\n        \"description\": \"\"\n      }\n    },\n    {\n      \"column\": \"relevance\",\n      \"properties\": {\n        \"dtype\": \"number\",\n        \"std\": 1,\n        \"min\": 1,\n        \"max\": 4,\n        \"num_unique_values\": 4,\n        \"samples\": [\n          2,\n          4,\n          1\n        ],\n        \"semantic_type\": \"\",\n        \"description\": \"\"\n      }\n    },\n    {\n      \"column\": \"iteration\",\n      \"properties\": {\n        \"dtype\": \"category\",\n        \"num_unique_values\": 3,\n        \"samples\": [\n          \"Q0\",\n          \"E0\",\n          \"U0\"\n        ],\n        \"semantic_type\": \"\",\n        \"description\": \"\"\n      }\n    }\n  ]\n}"
            }
          },
          "metadata": {},
          "execution_count": 86
        }
      ],
      "source": [
        "def evaluate_relevance_predictions(\n",
        "    predictions_df: pd.DataFrame, qrel_df: pd.DataFrame\n",
        ") -> pd.DataFrame:\n",
        "    \"\"\"\n",
        "    Evaluate relevance predictions against ground truth qrels data.\n",
        "\n",
        "    This function compares predicted relevance scores with actual relevance judgments,\n",
        "    providing several evaluation metrics including confusion matrices, Krippendorff's alpha,\n",
        "    and Spearman's correlation. It also evaluates binary relevance classification.\n",
        "\n",
        "    Args:\n",
        "        predictions_df (pd.DataFrame): DataFrame with predicted relevance scores.\n",
        "            Expected to have MultiIndex of (query_id, doc_id) and a 'predicted' column.\n",
        "        qrel_df (pd.DataFrame): Ground truth relevance judgments DataFrame.\n",
        "            Expected to have columns 'query_id', 'doc_id', and 'relevance'.\n",
        "\n",
        "    Returns:\n",
        "        pd.DataFrame: Merged DataFrame containing both predicted and actual relevance scores,\n",
        "                     sorted by predicted scores and actual relevance.\n",
        "\n",
        "    Visualizes:\n",
        "        - Histograms comparing predicted vs. actual relevance distributions\n",
        "        - Confusion matrix of relevance scores\n",
        "        - Binary relevance evaluation (relevant if score > 1)\n",
        "\n",
        "    Metrics:\n",
        "        - Krippendorff's alpha for both ordinal and binary relevance\n",
        "        - Spearman's rank correlation coefficient\n",
        "    \"\"\"\n",
        "\n",
        "    merged_df = pd.merge(\n",
        "        predictions_df,\n",
        "        qrel_df,\n",
        "        left_index=True,\n",
        "        right_on=[\"query_id\", \"doc_id\"],\n",
        "        how=\"inner\",\n",
        "    )\n",
        "    print(f\"Shape of merged df: {merged_df.shape}\")\n",
        "\n",
        "    # Convert the relevance scores to numeric, handling potential errors.\n",
        "    try:\n",
        "        merged_df[\"relevance\"] = pd.to_numeric(merged_df[\"relevance\"])\n",
        "        merged_df[\"predicted\"] = pd.to_numeric(merged_df[\"predicted\"])\n",
        "    except ValueError as e:\n",
        "        print(f\"Error converting relevance scores to numeric: {e}\")\n",
        "        # Handle the error appropriately, e.g., by removing rows with invalid scores or assigning default values.\n",
        "        # For example, you could remove the invalid rows:\n",
        "        # merged_df = merged_df[pd.to_numeric(merged_df['relevance_x'], errors='coerce').notna()]\n",
        "        # merged_df = merged_df[pd.to_numeric(merged_df['relevance_y'], errors='coerce').notna()]\n",
        "\n",
        "    min_score, max_score = merged_df[\"relevance\"].min(), merged_df[\"relevance\"].max()\n",
        "    # plot two histograms side by side of predicted values and actual relevance values\n",
        "    fig, axs = plt.subplots(1, 2, figsize=(12, 4), sharex=True, sharey=True)\n",
        "    sns.histplot(\n",
        "        merged_df[\"predicted\"].sort_values().astype(str),\n",
        "        ax=axs[0],\n",
        "        discrete=True,\n",
        "        zorder=10,\n",
        "    )\n",
        "    axs[0].set_title(\"Predicted Relevance\")\n",
        "    sns.histplot(\n",
        "        merged_df[\"relevance\"].sort_values().astype(str),\n",
        "        ax=axs[1],\n",
        "        discrete=True,\n",
        "        zorder=10,\n",
        "    )\n",
        "    axs[1].set_title(\"Actual Relevance\")\n",
        "    # Add grid lines  on y axis\n",
        "    axs[0].grid(\n",
        "        axis=\"y\",\n",
        "        which=\"major\",\n",
        "        color=\"gray\",\n",
        "        alpha=0.2,\n",
        "        linestyle=\"-.\",\n",
        "        linewidth=0.5,\n",
        "        zorder=1,\n",
        "    )\n",
        "    axs[1].grid(\n",
        "        axis=\"y\",\n",
        "        which=\"major\",\n",
        "        color=\"gray\",\n",
        "        alpha=0.2,\n",
        "        linestyle=\"-.\",\n",
        "        linewidth=0.5,\n",
        "        zorder=1,\n",
        "    )\n",
        "\n",
        "    # show tick labels on y axis\n",
        "    axs[1].yaxis.set_tick_params(labelleft=True)\n",
        "\n",
        "    plt.show()\n",
        "    print(\"\\n\")\n",
        "\n",
        "    # plot a confusion matrix\n",
        "    cm = confusion_matrix(merged_df[\"relevance\"], merged_df[\"predicted\"])\n",
        "    disp = ConfusionMatrixDisplay(\n",
        "        confusion_matrix=cm, display_labels=np.sort(merged_df[\"relevance\"].unique())\n",
        "    )\n",
        "    disp.plot()\n",
        "    plt.show()\n",
        "    print(\"\\n\")\n",
        "\n",
        "    # Compute Krippendorff's alpha. reliability_data expects an array or df where the coders are rows and units are columns\n",
        "    alpha = krippendorff.alpha(\n",
        "        reliability_data=merged_df[[\"relevance\", \"predicted\"]].T,\n",
        "        level_of_measurement=\"ordinal\",\n",
        "    )\n",
        "    print(f\"Krippendorff's alpha: {alpha:.2f}\")\n",
        "\n",
        "    # Compute Spearman's correlation\n",
        "    spearman_corr = merged_df[\"relevance\"].corr(\n",
        "        merged_df[\"predicted\"], method=\"spearman\"\n",
        "    )\n",
        "    print(f\"Spearman's correlation: {spearman_corr:.2f}\")\n",
        "\n",
        "    print(\"---\" * 10, \"Binary Relevance Eval\", \"---\" * 10)\n",
        "    bi_relevance_df = merged_df[[\"predicted\", \"relevance\"]].map(\n",
        "        lambda x: True if x > 1 else False\n",
        "    )\n",
        "    sns.histplot(\n",
        "        data=bi_relevance_df.stack()\n",
        "        .reset_index()\n",
        "        .rename(columns={\"level_1\": \"\", 0: \"label\"})\n",
        "        .astype(str),\n",
        "        x=\"label\",\n",
        "        hue=\"\",\n",
        "        discrete=True,\n",
        "    )\n",
        "    plt.show()\n",
        "    print(\"\\n\")\n",
        "\n",
        "    bi_relevance_df.value_counts().to_frame().pivot_table(\n",
        "        index=\"predicted\", columns=\"relevance\"\n",
        "    )\n",
        "    cm = confusion_matrix(bi_relevance_df[\"relevance\"], bi_relevance_df[\"predicted\"])\n",
        "    disp = ConfusionMatrixDisplay(\n",
        "        confusion_matrix=cm,\n",
        "        display_labels=np.sort(bi_relevance_df[\"relevance\"].unique()),\n",
        "    )\n",
        "    disp.plot()\n",
        "    plt.show()\n",
        "    print(\"\\n\")\n",
        "\n",
        "    # Compute Krippendorff's alpha. reliability_data expects an array or df where the coders are rows and units are columns\n",
        "    alpha = krippendorff.alpha(\n",
        "        reliability_data=bi_relevance_df[[\"relevance\", \"predicted\"]].T.astype(int),\n",
        "        level_of_measurement=\"nominal\",\n",
        "    )\n",
        "\n",
        "    print(f\"Krippendorff's alpha: {alpha:.2f}\")\n",
        "\n",
        "    return merged_df.sort_values(by=[\"predicted\", \"relevance\"])\n",
        "\n",
        "\n",
        "evaluate_relevance_predictions(first_predictions_df, qrels_df)"
      ]
    },
    {
      "cell_type": "markdown",
      "metadata": {
        "id": "QNxvKah15jsO"
      },
      "source": [
        "# Quick Summary\n",
        "## We've defined the following utility functions:\n",
        "1. [get_response, parse_answer_from_text](#scrollTo=7LReDtNrqFxN&line=3&uniqifier=1)\n",
        "2. [compute_total_tokens_used](#scrollTo=IFOQQebOzwzB&line=1&uniqifier=1)\n",
        "3. [parse_results_to_df](#scrollTo=ZCnDdNPBJ4Qp&line=1&uniqifier=1)\n",
        "\n",
        "## And the following processing functions:\n",
        "1. [generate_relevance_predictions](#scrollTo=HQbxDjtnOTuz&line=8&uniqifier=1)\n",
        "2. [evaluate_relevance_predictions](#scrollTo=Gr_tg02FLEkE&line=4&uniqifier=1)\n",
        "\n",
        "\n",
        "## Next, we'll load a new dataset and apply these functions on new data\n",
        "\n",
        "\n"
      ]
    },
    {
      "cell_type": "markdown",
      "metadata": {
        "id": "VgyVsFxT9N_8"
      },
      "source": [
        "# Loading and predicting the LLM4EVal dataset\n",
        "## https://llm4eval.github.io/LLMJudge-benchmark/#\n",
        "### based on data from TREC-DL 2023"
      ]
    },
    {
      "cell_type": "code",
      "execution_count": 87,
      "metadata": {
        "colab": {
          "base_uri": "https://localhost:8080/"
        },
        "id": "-ZGlKYeGOwel",
        "outputId": "77d5025b-51a9-4501-914f-cf5bce3ab433"
      },
      "outputs": [
        {
          "output_type": "stream",
          "name": "stdout",
          "text": [
            "Cloning into 'LLMJudge'...\n",
            "remote: Enumerating objects: 83, done.\u001b[K\n",
            "remote: Counting objects: 100% (83/83), done.\u001b[K\n",
            "remote: Compressing objects: 100% (64/64), done.\u001b[K\n",
            "remote: Total 83 (delta 38), reused 41 (delta 12), pack-reused 0 (from 0)\u001b[K\n",
            "Receiving objects: 100% (83/83), 2.44 MiB | 13.16 MiB/s, done.\n",
            "Resolving deltas: 100% (38/38), done.\n"
          ]
        }
      ],
      "source": [
        "# clone the GitHub repo locally\n",
        "!git clone https://github.com/llm4eval/LLMJudge.git"
      ]
    },
    {
      "cell_type": "code",
      "execution_count": 88,
      "metadata": {
        "colab": {
          "base_uri": "https://localhost:8080/",
          "height": 1000
        },
        "id": "DgnmFZ-UTadC",
        "outputId": "af9d8dc5-8f6d-4c9e-fe0f-b3fcdd3aa465"
      },
      "outputs": [
        {
          "output_type": "stream",
          "name": "stdout",
          "text": [
            "Sampling 10 documents per query\n",
            "Number of selected queries in TREC dataset: 15\n",
            "Number of selected qrels in TREC dataset: 150\n",
            "Min relevance: 1, Max relevance: 4\n",
            "\n",
            "Relevance definitions:\n",
            "[3] Perfectly relevant: The passage is dedicated to the query and contains the exact answer.\n",
            "[2] Highly relevant: The passage has some answer for the query, but the answer may be a bit unclear, or hidden amongst extraneous information.\n",
            "[1] Related: The passage seems related to the query but does not answer it.\n",
            "[0] Irrelevant: The passage has nothing to do with the query.\n",
            "\n"
          ]
        },
        {
          "output_type": "display_data",
          "data": {
            "text/plain": [
              "<Figure size 640x480 with 1 Axes>"
            ],
            "image/png": "[encoded data removed]"
          },
          "metadata": {}
        },
        {
          "output_type": "execute_result",
          "data": {
            "text/plain": [
              "     query_id  doc_id  relevance\n",
              "2710      q10   p4056          3\n",
              "3076      q10    p351          1\n",
              "3235      q10   p9010          3\n",
              "3029      q10   p2256          1\n",
              "2701      q10    p453          1\n",
              "...       ...     ...        ...\n",
              "1846       q8  p11521          2\n",
              "1988       q8   p2350          2\n",
              "2105       q8   p4964          0\n",
              "2003       q8   p8928          1\n",
              "2070       q8   p6001          0\n",
              "\n",
              "[150 rows x 3 columns]"
            ],
            "text/html": [
              "\n",
              "  <div id=\"df-d6da5a7d-84cb-42d0-b9d1-d1bca98c6a5c\" class=\"colab-df-container\">\n",
              "    <div>\n",
              "<style scoped>\n",
              "    .dataframe tbody tr th:only-of-type {\n",
              "        vertical-align: middle;\n",
              "    }\n",
              "\n",
              "    .dataframe tbody tr th {\n",
              "        vertical-align: top;\n",
              "    }\n",
              "\n",
              "    .dataframe thead th {\n",
              "        text-align: right;\n",
              "    }\n",
              "</style>\n",
              "<table border=\"1\" class=\"dataframe\">\n",
              "  <thead>\n",
              "    <tr style=\"text-align: right;\">\n",
              "      <th></th>\n",
              "      <th>query_id</th>\n",
              "      <th>doc_id</th>\n",
              "      <th>relevance</th>\n",
              "    </tr>\n",
              "  </thead>\n",
              "  <tbody>\n",
              "    <tr>\n",
              "      <th>2710</th>\n",
              "      <td>q10</td>\n",
              "      <td>p4056</td>\n",
              "      <td>3</td>\n",
              "    </tr>\n",
              "    <tr>\n",
              "      <th>3076</th>\n",
              "      <td>q10</td>\n",
              "      <td>p351</td>\n",
              "      <td>1</td>\n",
              "    </tr>\n",
              "    <tr>\n",
              "      <th>3235</th>\n",
              "      <td>q10</td>\n",
              "      <td>p9010</td>\n",
              "      <td>3</td>\n",
              "    </tr>\n",
              "    <tr>\n",
              "      <th>3029</th>\n",
              "      <td>q10</td>\n",
              "      <td>p2256</td>\n",
              "      <td>1</td>\n",
              "    </tr>\n",
              "    <tr>\n",
              "      <th>2701</th>\n",
              "      <td>q10</td>\n",
              "      <td>p453</td>\n",
              "      <td>1</td>\n",
              "    </tr>\n",
              "    <tr>\n",
              "      <th>...</th>\n",
              "      <td>...</td>\n",
              "      <td>...</td>\n",
              "      <td>...</td>\n",
              "    </tr>\n",
              "    <tr>\n",
              "      <th>1846</th>\n",
              "      <td>q8</td>\n",
              "      <td>p11521</td>\n",
              "      <td>2</td>\n",
              "    </tr>\n",
              "    <tr>\n",
              "      <th>1988</th>\n",
              "      <td>q8</td>\n",
              "      <td>p2350</td>\n",
              "      <td>2</td>\n",
              "    </tr>\n",
              "    <tr>\n",
              "      <th>2105</th>\n",
              "      <td>q8</td>\n",
              "      <td>p4964</td>\n",
              "      <td>0</td>\n",
              "    </tr>\n",
              "    <tr>\n",
              "      <th>2003</th>\n",
              "      <td>q8</td>\n",
              "      <td>p8928</td>\n",
              "      <td>1</td>\n",
              "    </tr>\n",
              "    <tr>\n",
              "      <th>2070</th>\n",
              "      <td>q8</td>\n",
              "      <td>p6001</td>\n",
              "      <td>0</td>\n",
              "    </tr>\n",
              "  </tbody>\n",
              "</table>\n",
              "<p>150 rows × 3 columns</p>\n",
              "</div>\n",
              "    <div class=\"colab-df-buttons\">\n",
              "\n",
              "  <div class=\"colab-df-container\">\n",
              "    <button class=\"colab-df-convert\" onclick=\"convertToInteractive('df-d6da5a7d-84cb-42d0-b9d1-d1bca98c6a5c')\"\n",
              "            title=\"Convert this dataframe to an interactive table.\"\n",
              "            style=\"display:none;\">\n",
              "\n",
              "  <svg xmlns=\"http://www.w3.org/2000/svg\" height=\"24px\" viewBox=\"0 -960 960 960\">\n",
              "    <path d=\"M120-120v-720h720v720H120Zm60-500h600v-160H180v160Zm220 220h160v-160H400v160Zm0 220h160v-160H400v160ZM180-400h160v-160H180v160Zm440 0h160v-160H620v160ZM180-180h160v-160H180v160Zm440 0h160v-160H620v160Z\"/>\n",
              "  </svg>\n",
              "    </button>\n",
              "\n",
              "  <style>\n",
              "    .colab-df-container {\n",
              "      display:flex;\n",
              "      gap: 12px;\n",
              "    }\n",
              "\n",
              "    .colab-df-convert {\n",
              "      background-color: #E8F0FE;\n",
              "      border: none;\n",
              "      border-radius: 50%;\n",
              "      cursor: pointer;\n",
              "      display: none;\n",
              "      fill: #1967D2;\n",
              "      height: 32px;\n",
              "      padding: 0 0 0 0;\n",
              "      width: 32px;\n",
              "    }\n",
              "\n",
              "    .colab-df-convert:hover {\n",
              "      background-color: #E2EBFA;\n",
              "      box-shadow: 0px 1px 2px rgba(60, 64, 67, 0.3), 0px 1px 3px 1px rgba(60, 64, 67, 0.15);\n",
              "      fill: #174EA6;\n",
              "    }\n",
              "\n",
              "    .colab-df-buttons div {\n",
              "      margin-bottom: 4px;\n",
              "    }\n",
              "\n",
              "    [theme=dark] .colab-df-convert {\n",
              "      background-color: #3B4455;\n",
              "      fill: #D2E3FC;\n",
              "    }\n",
              "\n",
              "    [theme=dark] .colab-df-convert:hover {\n",
              "      background-color: #434B5C;\n",
              "      box-shadow: 0px 1px 3px 1px rgba(0, 0, 0, 0.15);\n",
              "      filter: drop-shadow(0px 1px 2px rgba(0, 0, 0, 0.3));\n",
              "      fill: #FFFFFF;\n",
              "    }\n",
              "  </style>\n",
              "\n",
              "    <script>\n",
              "      const buttonEl =\n",
              "        document.querySelector('#df-d6da5a7d-84cb-42d0-b9d1-d1bca98c6a5c button.colab-df-convert');\n",
              "      buttonEl.style.display =\n",
              "        google.colab.kernel.accessAllowed ? 'block' : 'none';\n",
              "\n",
              "      async function convertToInteractive(key) {\n",
              "        const element = document.querySelector('#df-d6da5a7d-84cb-42d0-b9d1-d1bca98c6a5c');\n",
              "        const dataTable =\n",
              "          await google.colab.kernel.invokeFunction('convertToInteractive',\n",
              "                                                    [key], {});\n",
              "        if (!dataTable) return;\n",
              "\n",
              "        const docLinkHtml = 'Like what you see? Visit the ' +\n",
              "          '<a target=\"_blank\" href=https://colab.research.google.com/notebooks/data_table.ipynb>data table notebook</a>'\n",
              "          + ' to learn more about interactive tables.';\n",
              "        element.innerHTML = '';\n",
              "        dataTable['output_type'] = 'display_data';\n",
              "        await google.colab.output.renderOutput(dataTable, element);\n",
              "        const docLink = document.createElement('div');\n",
              "        docLink.innerHTML = docLinkHtml;\n",
              "        element.appendChild(docLink);\n",
              "      }\n",
              "    </script>\n",
              "  </div>\n",
              "\n",
              "\n",
              "<div id=\"df-664e8af3-6217-4aef-b520-d4dc53f654ea\">\n",
              "  <button class=\"colab-df-quickchart\" onclick=\"quickchart('df-664e8af3-6217-4aef-b520-d4dc53f654ea')\"\n",
              "            title=\"Suggest charts\"\n",
              "            style=\"display:none;\">\n",
              "\n",
              "<svg xmlns=\"http://www.w3.org/2000/svg\" height=\"24px\"viewBox=\"0 0 24 24\"\n",
              "     width=\"24px\">\n",
              "    <g>\n",
              "        <path d=\"M19 3H5c-1.1 0-2 .9-2 2v14c0 1.1.9 2 2 2h14c1.1 0 2-.9 2-2V5c0-1.1-.9-2-2-2zM9 17H7v-7h2v7zm4 0h-2V7h2v10zm4 0h-2v-4h2v4z\"/>\n",
              "    </g>\n",
              "</svg>\n",
              "  </button>\n",
              "\n",
              "<style>\n",
              "  .colab-df-quickchart {\n",
              "      --bg-color: #E8F0FE;\n",
              "      --fill-color: #1967D2;\n",
              "      --hover-bg-color: #E2EBFA;\n",
              "      --hover-fill-color: #174EA6;\n",
              "      --disabled-fill-color: #AAA;\n",
              "      --disabled-bg-color: #DDD;\n",
              "  }\n",
              "\n",
              "  [theme=dark] .colab-df-quickchart {\n",
              "      --bg-color: #3B4455;\n",
              "      --fill-color: #D2E3FC;\n",
              "      --hover-bg-color: #434B5C;\n",
              "      --hover-fill-color: #FFFFFF;\n",
              "      --disabled-bg-color: #3B4455;\n",
              "      --disabled-fill-color: #666;\n",
              "  }\n",
              "\n",
              "  .colab-df-quickchart {\n",
              "    background-color: var(--bg-color);\n",
              "    border: none;\n",
              "    border-radius: 50%;\n",
              "    cursor: pointer;\n",
              "    display: none;\n",
              "    fill: var(--fill-color);\n",
              "    height: 32px;\n",
              "    padding: 0;\n",
              "    width: 32px;\n",
              "  }\n",
              "\n",
              "  .colab-df-quickchart:hover {\n",
              "    background-color: var(--hover-bg-color);\n",
              "    box-shadow: 0 1px 2px rgba(60, 64, 67, 0.3), 0 1px 3px 1px rgba(60, 64, 67, 0.15);\n",
              "    fill: var(--button-hover-fill-color);\n",
              "  }\n",
              "\n",
              "  .colab-df-quickchart-complete:disabled,\n",
              "  .colab-df-quickchart-complete:disabled:hover {\n",
              "    background-color: var(--disabled-bg-color);\n",
              "    fill: var(--disabled-fill-color);\n",
              "    box-shadow: none;\n",
              "  }\n",
              "\n",
              "  .colab-df-spinner {\n",
              "    border: 2px solid var(--fill-color);\n",
              "    border-color: transparent;\n",
              "    border-bottom-color: var(--fill-color);\n",
              "    animation:\n",
              "      spin 1s steps(1) infinite;\n",
              "  }\n",
              "\n",
              "  @keyframes spin {\n",
              "    0% {\n",
              "      border-color: transparent;\n",
              "      border-bottom-color: var(--fill-color);\n",
              "      border-left-color: var(--fill-color);\n",
              "    }\n",
              "    20% {\n",
              "      border-color: transparent;\n",
              "      border-left-color: var(--fill-color);\n",
              "      border-top-color: var(--fill-color);\n",
              "    }\n",
              "    30% {\n",
              "      border-color: transparent;\n",
              "      border-left-color: var(--fill-color);\n",
              "      border-top-color: var(--fill-color);\n",
              "      border-right-color: var(--fill-color);\n",
              "    }\n",
              "    40% {\n",
              "      border-color: transparent;\n",
              "      border-right-color: var(--fill-color);\n",
              "      border-top-color: var(--fill-color);\n",
              "    }\n",
              "    60% {\n",
              "      border-color: transparent;\n",
              "      border-right-color: var(--fill-color);\n",
              "    }\n",
              "    80% {\n",
              "      border-color: transparent;\n",
              "      border-right-color: var(--fill-color);\n",
              "      border-bottom-color: var(--fill-color);\n",
              "    }\n",
              "    90% {\n",
              "      border-color: transparent;\n",
              "      border-bottom-color: var(--fill-color);\n",
              "    }\n",
              "  }\n",
              "</style>\n",
              "\n",
              "  <script>\n",
              "    async function quickchart(key) {\n",
              "      const quickchartButtonEl =\n",
              "        document.querySelector('#' + key + ' button');\n",
              "      quickchartButtonEl.disabled = true;  // To prevent multiple clicks.\n",
              "      quickchartButtonEl.classList.add('colab-df-spinner');\n",
              "      try {\n",
              "        const charts = await google.colab.kernel.invokeFunction(\n",
              "            'suggestCharts', [key], {});\n",
              "      } catch (error) {\n",
              "        console.error('Error during call to suggestCharts:', error);\n",
              "      }\n",
              "      quickchartButtonEl.classList.remove('colab-df-spinner');\n",
              "      quickchartButtonEl.classList.add('colab-df-quickchart-complete');\n",
              "    }\n",
              "    (() => {\n",
              "      let quickchartButtonEl =\n",
              "        document.querySelector('#df-664e8af3-6217-4aef-b520-d4dc53f654ea button');\n",
              "      quickchartButtonEl.style.display =\n",
              "        google.colab.kernel.accessAllowed ? 'block' : 'none';\n",
              "    })();\n",
              "  </script>\n",
              "</div>\n",
              "\n",
              "    </div>\n",
              "  </div>\n"
            ],
            "application/vnd.google.colaboratory.intrinsic+json": {
              "type": "dataframe",
              "summary": "{\n  \"name\": \"trec_qrels_df\",\n  \"rows\": 150,\n  \"fields\": [\n    {\n      \"column\": \"query_id\",\n      \"properties\": {\n        \"dtype\": \"category\",\n        \"num_unique_values\": 15,\n        \"samples\": [\n          \"q44\",\n          \"q5\",\n          \"q10\"\n        ],\n        \"semantic_type\": \"\",\n        \"description\": \"\"\n      }\n    },\n    {\n      \"column\": \"doc_id\",\n      \"properties\": {\n        \"dtype\": \"string\",\n        \"num_unique_values\": 150,\n        \"samples\": [\n          \"p2659\",\n          \"p3829\",\n          \"p5804\"\n        ],\n        \"semantic_type\": \"\",\n        \"description\": \"\"\n      }\n    },\n    {\n      \"column\": \"relevance\",\n      \"properties\": {\n        \"dtype\": \"number\",\n        \"std\": 0,\n        \"min\": 0,\n        \"max\": 3,\n        \"num_unique_values\": 4,\n        \"samples\": [\n          1,\n          0,\n          3\n        ],\n        \"semantic_type\": \"\",\n        \"description\": \"\"\n      }\n    }\n  ]\n}"
            }
          },
          "metadata": {},
          "execution_count": 88
        }
      ],
      "source": [
        "trec_docs_df = (\n",
        "    pd.read_json(\"LLMJudge/data/llm4eval_document_2024.jsonl\", lines=True)\n",
        "    .rename(columns={\"docid\": \"doc_id\", \"doc\": \"text\"})\n",
        "    .set_index(\"doc_id\")\n",
        ")\n",
        "trec_queries_df = pd.read_csv(\n",
        "    \"LLMJudge/data/llm4eval_query_2024.txt\",\n",
        "    sep=\"\\t\",\n",
        "    header=None,\n",
        "    names=[\"query_id\", \"text\"],\n",
        ").set_index(\"query_id\")\n",
        "trec_qrels_df = pd.read_csv(\n",
        "    \"LLMJudge/data/llm4eval_dev_qrel_2024.txt\",\n",
        "    sep=\"\\s+\",\n",
        "    header=None,\n",
        "    names=[\"query_id\", \"iteration\", \"doc_id\", \"relevance\"],\n",
        ").drop(columns=\"iteration\")\n",
        "\n",
        "\n",
        "# select first qn queries\n",
        "qn = 15\n",
        "first_n_qids = trec_qrels_df[\"query_id\"].unique()[:qn]\n",
        "trec_queries_df = trec_queries_df.loc[first_n_qids]\n",
        "trec_qrels_df = trec_qrels_df.loc[trec_qrels_df[\"query_id\"].isin(first_n_qids)]\n",
        "\n",
        "# sample dn documents per query\n",
        "dn = 10\n",
        "print(f\"Sampling {dn} documents per query\")\n",
        "trec_qrels_df = trec_qrels_df.groupby(\"query_id\").sample(\n",
        "    n=dn, replace=False, random_state=2703\n",
        ")\n",
        "\n",
        "print(f\"Number of selected queries in TREC dataset: {len(trec_queries_df)}\")\n",
        "print(f\"Number of selected qrels in TREC dataset: {len(trec_qrels_df)}\")\n",
        "\n",
        "trec_min_rel = trec_qrels_df[\"relevance\"].min()\n",
        "trec_max_rel = trec_qrels_df[\"relevance\"].max()\n",
        "print(f\"Min relevance: {min_rel}, Max relevance: {max_rel}\\n\")\n",
        "print(\n",
        "    \"\"\"Relevance definitions:\n",
        "[3] Perfectly relevant: The passage is dedicated to the query and contains the exact answer.\n",
        "[2] Highly relevant: The passage has some answer for the query, but the answer may be a bit unclear, or hidden amongst extraneous information.\n",
        "[1] Related: The passage seems related to the query but does not answer it.\n",
        "[0] Irrelevant: The passage has nothing to do with the query.\\n\"\"\"\n",
        ")\n",
        "\n",
        "sns.histplot(\n",
        "    trec_qrels_df.sort_values(\"relevance\").astype(str),\n",
        "    x=\"relevance\",\n",
        "    discrete=True,\n",
        "    binrange=(trec_min_rel, trec_max_rel),\n",
        ")\n",
        "plt.show()\n",
        "\n",
        "trec_qrels_df[\"relevance\"].value_counts()\n",
        "\n",
        "trec_qrels_df.loc[trec_qrels_df[\"query_id\"].isin(first_n_qids)]"
      ]
    },
    {
      "cell_type": "code",
      "execution_count": 89,
      "metadata": {
        "colab": {
          "base_uri": "https://localhost:8080/"
        },
        "id": "j2sP9n6vT8XJ",
        "outputId": "e7d05724-859f-4ee9-bacc-8ee70490a643"
      },
      "outputs": [
        {
          "output_type": "stream",
          "name": "stdout",
          "text": [
            "Given a query and a passage, you must provide a score on an integer scale of 0 to 3 with the\n",
            "following meanings:\n",
            "\n",
            "0 = represent that the passage has nothing to do with the query,\n",
            "1 = represents that the passage seems related to the query but does not answer it,\n",
            "2 = represents that the passage has some answer for the query, but the answer may be a bit unclear, or hidden amongst extraneous\n",
            "information and\n",
            "3 = represents that the passage is dedicated to the query and contains the exact answer.\n",
            "\n",
            "Important Instruction: Assign category 1 if the passage is somewhat related to the topic but not completely,\n",
            "category 2 if the passage presents something very important related to the entire\n",
            "topic but also has some extra information and category 3 if the passage only and entirely refers to\n",
            "the topic. If none of the above satisfies give it category 0.\n",
            "\n",
            "Query: {query}\n",
            "Passage: {document}\n",
            "\n",
            "Split this problem into steps: Consider the underlying intent of the search. Measure how well the content\n",
            "matches a likely intent of the query (M). Measure how trustworthy the passage is (T). Consider the\n",
            "aspects above and the relative importance of each, and decide on a final score (O).\n",
            "\n",
            "Final score must be an integer value only. Do not provide any code in the result.\n",
            "Provide each score in the format of:\n",
            "##final score: score without providing any reasoning.\n",
            "\n"
          ]
        }
      ],
      "source": [
        "# define TREC instructions prompt\n",
        "\n",
        "first_prompt = f\"\"\"Judge the relevance of the below document to the given query.\n",
        "Output a relevance score based on the following scale:\n",
        "[3] Perfectly relevant: The passage is dedicated to the query and contains the exact answer.\n",
        "[2] Highly relevant: The passage has some answer for the query, but the answer may be a bit unclear, or hidden amongst extraneous information.\n",
        "[1] Related: The passage seems related to the query but does not answer it.\n",
        "[0] Irrelevant: The passage has nothing to do with the query.\n",
        "\n",
        "The response should be a single number between {trec_min_rel} and {trec_max_rel}.\n",
        "\n",
        "The thought process should be first to decide whether the document is relevant or not,\n",
        "if not, assign it a {trec_min_rel}.\n",
        "Otherwise decide how relevant the document is to the query, based on that assign a score between {int(trec_min_rel) + 1} and {trec_max_rel}.\n",
        "{trec_max_rel} should be assigned only to perfectly relevant documents.\n",
        "\n",
        "Provide only a single score without any additional text.\n",
        "\n",
        "Query:\n",
        "{{query}}\n",
        "\n",
        "Document:\n",
        "{{document}}\n",
        "\"\"\"\n",
        "\n",
        "\n",
        "# Upadhyay, S., Pradeep, R., Thakur, N., Craswell, N., & Lin, J. (2024).\n",
        "# Umbrela: Umbrela is the (open-source reproduction of the) bing relevance assessor. arXiv preprint arXiv:2406.06519.\n",
        "umbrella_prompt = \"\"\"Given a query and a passage, you must provide a score on an integer scale of 0 to 3 with the\n",
        "following meanings:\n",
        "\n",
        "0 = represent that the passage has nothing to do with the query,\n",
        "1 = represents that the passage seems related to the query but does not answer it,\n",
        "2 = represents that the passage has some answer for the query, but the answer may be a bit unclear, or hidden amongst extraneous\n",
        "information and\n",
        "3 = represents that the passage is dedicated to the query and contains the exact answer.\n",
        "\n",
        "Important Instruction: Assign category 1 if the passage is somewhat related to the topic but not completely,\n",
        "category 2 if the passage presents something very important related to the entire\n",
        "topic but also has some extra information and category 3 if the passage only and entirely refers to\n",
        "the topic. If none of the above satisfies give it category 0.\n",
        "\n",
        "Query: {query}\n",
        "Passage: {document}\n",
        "\n",
        "Split this problem into steps: Consider the underlying intent of the search. Measure how well the content\n",
        "matches a likely intent of the query (M). Measure how trustworthy the passage is (T). Consider the\n",
        "aspects above and the relative importance of each, and decide on a final score (O).\n",
        "\n",
        "Final score must be an integer value only. Do not provide any code in the result.\n",
        "Provide each score in the format of:\n",
        "##final score: score without providing any reasoning.\n",
        "\"\"\"\n",
        "print(umbrella_prompt)"
      ]
    },
    {
      "cell_type": "code",
      "execution_count": 90,
      "metadata": {
        "collapsed": true,
        "id": "o8OrEWeN0Y-k"
      },
      "outputs": [],
      "source": [
        "# Generate predictions for the TREC data - Takes 2-4 minutes\n",
        "trec_results, trec_reasoning_results, trec_raw_responses = (\n",
        "    generate_relevance_predictions(\n",
        "        trec_qrels_df,\n",
        "        trec_docs_df,\n",
        "        trec_queries_df,\n",
        "        prompt=first_prompt,\n",
        "        model=MODEL[\"llama-3.2-1b\"],\n",
        "    )\n",
        ")"
      ]
    },
    {
      "cell_type": "code",
      "execution_count": 91,
      "metadata": {
        "colab": {
          "base_uri": "https://localhost:8080/"
        },
        "collapsed": true,
        "id": "QzHXN-eQ-uEB",
        "outputId": "ff211d17-fbdd-486a-d239-ee8d33539462"
      },
      "outputs": [
        {
          "output_type": "stream",
          "name": "stdout",
          "text": [
            "Total input tokens used: 60,727\n",
            "Total output tokens used: 280\n",
            "Total tokens used: 61,007\n"
          ]
        },
        {
          "output_type": "execute_result",
          "data": {
            "text/plain": [
              "(60727, 280, 61007)"
            ]
          },
          "metadata": {},
          "execution_count": 91
        }
      ],
      "source": [
        "compute_total_tokens_used(trec_raw_responses)"
      ]
    },
    {
      "cell_type": "code",
      "execution_count": 92,
      "metadata": {
        "colab": {
          "base_uri": "https://localhost:8080/",
          "height": 455
        },
        "id": "ISD-cqWrT6Dr",
        "outputId": "d776a490-c03b-4b83-f475-4af053d96400"
      },
      "outputs": [
        {
          "output_type": "execute_result",
          "data": {
            "text/plain": [
              "                 predicted\n",
              "query_id doc_id           \n",
              "q10      p4056           0\n",
              "         p351            1\n",
              "         p9010           0\n",
              "         p2256           2\n",
              "         p453            2\n",
              "...                    ...\n",
              "q8       p11521          0\n",
              "         p2350           0\n",
              "         p4964           0\n",
              "         p8928           0\n",
              "         p6001           0\n",
              "\n",
              "[150 rows x 1 columns]"
            ],
            "text/html": [
              "\n",
              "  <div id=\"df-dffbe2e6-5cd6-4839-baca-6f56c7af912a\" class=\"colab-df-container\">\n",
              "    <div>\n",
              "<style scoped>\n",
              "    .dataframe tbody tr th:only-of-type {\n",
              "        vertical-align: middle;\n",
              "    }\n",
              "\n",
              "    .dataframe tbody tr th {\n",
              "        vertical-align: top;\n",
              "    }\n",
              "\n",
              "    .dataframe thead th {\n",
              "        text-align: right;\n",
              "    }\n",
              "</style>\n",
              "<table border=\"1\" class=\"dataframe\">\n",
              "  <thead>\n",
              "    <tr style=\"text-align: right;\">\n",
              "      <th></th>\n",
              "      <th></th>\n",
              "      <th>predicted</th>\n",
              "    </tr>\n",
              "    <tr>\n",
              "      <th>query_id</th>\n",
              "      <th>doc_id</th>\n",
              "      <th></th>\n",
              "    </tr>\n",
              "  </thead>\n",
              "  <tbody>\n",
              "    <tr>\n",
              "      <th rowspan=\"5\" valign=\"top\">q10</th>\n",
              "      <th>p4056</th>\n",
              "      <td>0</td>\n",
              "    </tr>\n",
              "    <tr>\n",
              "      <th>p351</th>\n",
              "      <td>1</td>\n",
              "    </tr>\n",
              "    <tr>\n",
              "      <th>p9010</th>\n",
              "      <td>0</td>\n",
              "    </tr>\n",
              "    <tr>\n",
              "      <th>p2256</th>\n",
              "      <td>2</td>\n",
              "    </tr>\n",
              "    <tr>\n",
              "      <th>p453</th>\n",
              "      <td>2</td>\n",
              "    </tr>\n",
              "    <tr>\n",
              "      <th>...</th>\n",
              "      <th>...</th>\n",
              "      <td>...</td>\n",
              "    </tr>\n",
              "    <tr>\n",
              "      <th rowspan=\"5\" valign=\"top\">q8</th>\n",
              "      <th>p11521</th>\n",
              "      <td>0</td>\n",
              "    </tr>\n",
              "    <tr>\n",
              "      <th>p2350</th>\n",
              "      <td>0</td>\n",
              "    </tr>\n",
              "    <tr>\n",
              "      <th>p4964</th>\n",
              "      <td>0</td>\n",
              "    </tr>\n",
              "    <tr>\n",
              "      <th>p8928</th>\n",
              "      <td>0</td>\n",
              "    </tr>\n",
              "    <tr>\n",
              "      <th>p6001</th>\n",
              "      <td>0</td>\n",
              "    </tr>\n",
              "  </tbody>\n",
              "</table>\n",
              "<p>150 rows × 1 columns</p>\n",
              "</div>\n",
              "    <div class=\"colab-df-buttons\">\n",
              "\n",
              "  <div class=\"colab-df-container\">\n",
              "    <button class=\"colab-df-convert\" onclick=\"convertToInteractive('df-dffbe2e6-5cd6-4839-baca-6f56c7af912a')\"\n",
              "            title=\"Convert this dataframe to an interactive table.\"\n",
              "            style=\"display:none;\">\n",
              "\n",
              "  <svg xmlns=\"http://www.w3.org/2000/svg\" height=\"24px\" viewBox=\"0 -960 960 960\">\n",
              "    <path d=\"M120-120v-720h720v720H120Zm60-500h600v-160H180v160Zm220 220h160v-160H400v160Zm0 220h160v-160H400v160ZM180-400h160v-160H180v160Zm440 0h160v-160H620v160ZM180-180h160v-160H180v160Zm440 0h160v-160H620v160Z\"/>\n",
              "  </svg>\n",
              "    </button>\n",
              "\n",
              "  <style>\n",
              "    .colab-df-container {\n",
              "      display:flex;\n",
              "      gap: 12px;\n",
              "    }\n",
              "\n",
              "    .colab-df-convert {\n",
              "      background-color: #E8F0FE;\n",
              "      border: none;\n",
              "      border-radius: 50%;\n",
              "      cursor: pointer;\n",
              "      display: none;\n",
              "      fill: #1967D2;\n",
              "      height: 32px;\n",
              "      padding: 0 0 0 0;\n",
              "      width: 32px;\n",
              "    }\n",
              "\n",
              "    .colab-df-convert:hover {\n",
              "      background-color: #E2EBFA;\n",
              "      box-shadow: 0px 1px 2px rgba(60, 64, 67, 0.3), 0px 1px 3px 1px rgba(60, 64, 67, 0.15);\n",
              "      fill: #174EA6;\n",
              "    }\n",
              "\n",
              "    .colab-df-buttons div {\n",
              "      margin-bottom: 4px;\n",
              "    }\n",
              "\n",
              "    [theme=dark] .colab-df-convert {\n",
              "      background-color: #3B4455;\n",
              "      fill: #D2E3FC;\n",
              "    }\n",
              "\n",
              "    [theme=dark] .colab-df-convert:hover {\n",
              "      background-color: #434B5C;\n",
              "      box-shadow: 0px 1px 3px 1px rgba(0, 0, 0, 0.15);\n",
              "      filter: drop-shadow(0px 1px 2px rgba(0, 0, 0, 0.3));\n",
              "      fill: #FFFFFF;\n",
              "    }\n",
              "  </style>\n",
              "\n",
              "    <script>\n",
              "      const buttonEl =\n",
              "        document.querySelector('#df-dffbe2e6-5cd6-4839-baca-6f56c7af912a button.colab-df-convert');\n",
              "      buttonEl.style.display =\n",
              "        google.colab.kernel.accessAllowed ? 'block' : 'none';\n",
              "\n",
              "      async function convertToInteractive(key) {\n",
              "        const element = document.querySelector('#df-dffbe2e6-5cd6-4839-baca-6f56c7af912a');\n",
              "        const dataTable =\n",
              "          await google.colab.kernel.invokeFunction('convertToInteractive',\n",
              "                                                    [key], {});\n",
              "        if (!dataTable) return;\n",
              "\n",
              "        const docLinkHtml = 'Like what you see? Visit the ' +\n",
              "          '<a target=\"_blank\" href=https://colab.research.google.com/notebooks/data_table.ipynb>data table notebook</a>'\n",
              "          + ' to learn more about interactive tables.';\n",
              "        element.innerHTML = '';\n",
              "        dataTable['output_type'] = 'display_data';\n",
              "        await google.colab.output.renderOutput(dataTable, element);\n",
              "        const docLink = document.createElement('div');\n",
              "        docLink.innerHTML = docLinkHtml;\n",
              "        element.appendChild(docLink);\n",
              "      }\n",
              "    </script>\n",
              "  </div>\n",
              "\n",
              "\n",
              "<div id=\"df-d0c23dcd-f76c-4780-bce1-ca6a5721b4d6\">\n",
              "  <button class=\"colab-df-quickchart\" onclick=\"quickchart('df-d0c23dcd-f76c-4780-bce1-ca6a5721b4d6')\"\n",
              "            title=\"Suggest charts\"\n",
              "            style=\"display:none;\">\n",
              "\n",
              "<svg xmlns=\"http://www.w3.org/2000/svg\" height=\"24px\"viewBox=\"0 0 24 24\"\n",
              "     width=\"24px\">\n",
              "    <g>\n",
              "        <path d=\"M19 3H5c-1.1 0-2 .9-2 2v14c0 1.1.9 2 2 2h14c1.1 0 2-.9 2-2V5c0-1.1-.9-2-2-2zM9 17H7v-7h2v7zm4 0h-2V7h2v10zm4 0h-2v-4h2v4z\"/>\n",
              "    </g>\n",
              "</svg>\n",
              "  </button>\n",
              "\n",
              "<style>\n",
              "  .colab-df-quickchart {\n",
              "      --bg-color: #E8F0FE;\n",
              "      --fill-color: #1967D2;\n",
              "      --hover-bg-color: #E2EBFA;\n",
              "      --hover-fill-color: #174EA6;\n",
              "      --disabled-fill-color: #AAA;\n",
              "      --disabled-bg-color: #DDD;\n",
              "  }\n",
              "\n",
              "  [theme=dark] .colab-df-quickchart {\n",
              "      --bg-color: #3B4455;\n",
              "      --fill-color: #D2E3FC;\n",
              "      --hover-bg-color: #434B5C;\n",
              "      --hover-fill-color: #FFFFFF;\n",
              "      --disabled-bg-color: #3B4455;\n",
              "      --disabled-fill-color: #666;\n",
              "  }\n",
              "\n",
              "  .colab-df-quickchart {\n",
              "    background-color: var(--bg-color);\n",
              "    border: none;\n",
              "    border-radius: 50%;\n",
              "    cursor: pointer;\n",
              "    display: none;\n",
              "    fill: var(--fill-color);\n",
              "    height: 32px;\n",
              "    padding: 0;\n",
              "    width: 32px;\n",
              "  }\n",
              "\n",
              "  .colab-df-quickchart:hover {\n",
              "    background-color: var(--hover-bg-color);\n",
              "    box-shadow: 0 1px 2px rgba(60, 64, 67, 0.3), 0 1px 3px 1px rgba(60, 64, 67, 0.15);\n",
              "    fill: var(--button-hover-fill-color);\n",
              "  }\n",
              "\n",
              "  .colab-df-quickchart-complete:disabled,\n",
              "  .colab-df-quickchart-complete:disabled:hover {\n",
              "    background-color: var(--disabled-bg-color);\n",
              "    fill: var(--disabled-fill-color);\n",
              "    box-shadow: none;\n",
              "  }\n",
              "\n",
              "  .colab-df-spinner {\n",
              "    border: 2px solid var(--fill-color);\n",
              "    border-color: transparent;\n",
              "    border-bottom-color: var(--fill-color);\n",
              "    animation:\n",
              "      spin 1s steps(1) infinite;\n",
              "  }\n",
              "\n",
              "  @keyframes spin {\n",
              "    0% {\n",
              "      border-color: transparent;\n",
              "      border-bottom-color: var(--fill-color);\n",
              "      border-left-color: var(--fill-color);\n",
              "    }\n",
              "    20% {\n",
              "      border-color: transparent;\n",
              "      border-left-color: var(--fill-color);\n",
              "      border-top-color: var(--fill-color);\n",
              "    }\n",
              "    30% {\n",
              "      border-color: transparent;\n",
              "      border-left-color: var(--fill-color);\n",
              "      border-top-color: var(--fill-color);\n",
              "      border-right-color: var(--fill-color);\n",
              "    }\n",
              "    40% {\n",
              "      border-color: transparent;\n",
              "      border-right-color: var(--fill-color);\n",
              "      border-top-color: var(--fill-color);\n",
              "    }\n",
              "    60% {\n",
              "      border-color: transparent;\n",
              "      border-right-color: var(--fill-color);\n",
              "    }\n",
              "    80% {\n",
              "      border-color: transparent;\n",
              "      border-right-color: var(--fill-color);\n",
              "      border-bottom-color: var(--fill-color);\n",
              "    }\n",
              "    90% {\n",
              "      border-color: transparent;\n",
              "      border-bottom-color: var(--fill-color);\n",
              "    }\n",
              "  }\n",
              "</style>\n",
              "\n",
              "  <script>\n",
              "    async function quickchart(key) {\n",
              "      const quickchartButtonEl =\n",
              "        document.querySelector('#' + key + ' button');\n",
              "      quickchartButtonEl.disabled = true;  // To prevent multiple clicks.\n",
              "      quickchartButtonEl.classList.add('colab-df-spinner');\n",
              "      try {\n",
              "        const charts = await google.colab.kernel.invokeFunction(\n",
              "            'suggestCharts', [key], {});\n",
              "      } catch (error) {\n",
              "        console.error('Error during call to suggestCharts:', error);\n",
              "      }\n",
              "      quickchartButtonEl.classList.remove('colab-df-spinner');\n",
              "      quickchartButtonEl.classList.add('colab-df-quickchart-complete');\n",
              "    }\n",
              "    (() => {\n",
              "      let quickchartButtonEl =\n",
              "        document.querySelector('#df-d0c23dcd-f76c-4780-bce1-ca6a5721b4d6 button');\n",
              "      quickchartButtonEl.style.display =\n",
              "        google.colab.kernel.accessAllowed ? 'block' : 'none';\n",
              "    })();\n",
              "  </script>\n",
              "</div>\n",
              "\n",
              "  <div id=\"id_50b54c30-2e4d-45a3-b5fe-83be4d5377a2\">\n",
              "    <style>\n",
              "      .colab-df-generate {\n",
              "        background-color: #E8F0FE;\n",
              "        border: none;\n",
              "        border-radius: 50%;\n",
              "        cursor: pointer;\n",
              "        display: none;\n",
              "        fill: #1967D2;\n",
              "        height: 32px;\n",
              "        padding: 0 0 0 0;\n",
              "        width: 32px;\n",
              "      }\n",
              "\n",
              "      .colab-df-generate:hover {\n",
              "        background-color: #E2EBFA;\n",
              "        box-shadow: 0px 1px 2px rgba(60, 64, 67, 0.3), 0px 1px 3px 1px rgba(60, 64, 67, 0.15);\n",
              "        fill: #174EA6;\n",
              "      }\n",
              "\n",
              "      [theme=dark] .colab-df-generate {\n",
              "        background-color: #3B4455;\n",
              "        fill: #D2E3FC;\n",
              "      }\n",
              "\n",
              "      [theme=dark] .colab-df-generate:hover {\n",
              "        background-color: #434B5C;\n",
              "        box-shadow: 0px 1px 3px 1px rgba(0, 0, 0, 0.15);\n",
              "        filter: drop-shadow(0px 1px 2px rgba(0, 0, 0, 0.3));\n",
              "        fill: #FFFFFF;\n",
              "      }\n",
              "    </style>\n",
              "    <button class=\"colab-df-generate\" onclick=\"generateWithVariable('trec_predictions_df')\"\n",
              "            title=\"Generate code using this dataframe.\"\n",
              "            style=\"display:none;\">\n",
              "\n",
              "  <svg xmlns=\"http://www.w3.org/2000/svg\" height=\"24px\"viewBox=\"0 0 24 24\"\n",
              "       width=\"24px\">\n",
              "    <path d=\"M7,19H8.4L18.45,9,17,7.55,7,17.6ZM5,21V16.75L18.45,3.32a2,2,0,0,1,2.83,0l1.4,1.43a1.91,1.91,0,0,1,.58,1.4,1.91,1.91,0,0,1-.58,1.4L9.25,21ZM18.45,9,17,7.55Zm-12,3A5.31,5.31,0,0,0,4.9,8.1,5.31,5.31,0,0,0,1,6.5,5.31,5.31,0,0,0,4.9,4.9,5.31,5.31,0,0,0,6.5,1,5.31,5.31,0,0,0,8.1,4.9,5.31,5.31,0,0,0,12,6.5,5.46,5.46,0,0,0,6.5,12Z\"/>\n",
              "  </svg>\n",
              "    </button>\n",
              "    <script>\n",
              "      (() => {\n",
              "      const buttonEl =\n",
              "        document.querySelector('#id_50b54c30-2e4d-45a3-b5fe-83be4d5377a2 button.colab-df-generate');\n",
              "      buttonEl.style.display =\n",
              "        google.colab.kernel.accessAllowed ? 'block' : 'none';\n",
              "\n",
              "      buttonEl.onclick = () => {\n",
              "        google.colab.notebook.generateWithVariable('trec_predictions_df');\n",
              "      }\n",
              "      })();\n",
              "    </script>\n",
              "  </div>\n",
              "\n",
              "    </div>\n",
              "  </div>\n"
            ],
            "application/vnd.google.colaboratory.intrinsic+json": {
              "type": "dataframe",
              "variable_name": "trec_predictions_df",
              "summary": "{\n  \"name\": \"trec_predictions_df\",\n  \"rows\": 150,\n  \"fields\": [\n    {\n      \"column\": \"predicted\",\n      \"properties\": {\n        \"dtype\": \"number\",\n        \"std\": 0,\n        \"min\": 0,\n        \"max\": 2,\n        \"num_unique_values\": 3,\n        \"samples\": [\n          0,\n          1,\n          2\n        ],\n        \"semantic_type\": \"\",\n        \"description\": \"\"\n      }\n    }\n  ]\n}"
            }
          },
          "metadata": {},
          "execution_count": 92
        }
      ],
      "source": [
        "trec_predictions_df = parse_results_to_df(\n",
        "    trec_results,\n",
        "    trec_reasoning_results,\n",
        "    scores_range=(trec_min_rel, trec_max_rel),\n",
        ")\n",
        "trec_predictions_df"
      ]
    },
    {
      "cell_type": "code",
      "execution_count": 93,
      "metadata": {
        "colab": {
          "base_uri": "https://localhost:8080/",
          "height": 1000
        },
        "id": "1jX30rjV-eMk",
        "outputId": "525797c9-e568-4b6c-b897-278e36091a5c"
      },
      "outputs": [
        {
          "output_type": "stream",
          "name": "stdout",
          "text": [
            "Shape of merged df: (150, 4)\n"
          ]
        },
        {
          "output_type": "display_data",
          "data": {
            "text/plain": [
              "<Figure size 1200x400 with 2 Axes>"
            ],
            "image/png": "[encoded data removed]"
          },
          "metadata": {}
        },
        {
          "output_type": "stream",
          "name": "stdout",
          "text": [
            "\n",
            "\n"
          ]
        },
        {
          "output_type": "display_data",
          "data": {
            "text/plain": [
              "<Figure size 640x480 with 2 Axes>"
            ],
            "image/png": "[encoded data removed]"
          },
          "metadata": {}
        },
        {
          "output_type": "stream",
          "name": "stdout",
          "text": [
            "\n",
            "\n",
            "Krippendorff's alpha: 0.04\n",
            "Spearman's correlation: 0.04\n",
            "------------------------------ Binary Relevance Eval ------------------------------\n"
          ]
        },
        {
          "output_type": "display_data",
          "data": {
            "text/plain": [
              "<Figure size 640x480 with 1 Axes>"
            ],
            "image/png": "[encoded data removed]"
          },
          "metadata": {}
        },
        {
          "output_type": "stream",
          "name": "stdout",
          "text": [
            "\n",
            "\n"
          ]
        },
        {
          "output_type": "display_data",
          "data": {
            "text/plain": [
              "<Figure size 640x480 with 2 Axes>"
            ],
            "image/png": "[encoded data removed]"
          },
          "metadata": {}
        },
        {
          "output_type": "stream",
          "name": "stdout",
          "text": [
            "\n",
            "\n",
            "Krippendorff's alpha: -0.04\n"
          ]
        }
      ],
      "source": [
        "# Evaluate the predictions for the TREC data\n",
        "trec_eval_df = evaluate_relevance_predictions(\n",
        "    trec_predictions_df, trec_qrels_df\n",
        ").set_index([\"query_id\", \"doc_id\"])"
      ]
    },
    {
      "cell_type": "code",
      "execution_count": 94,
      "metadata": {
        "colab": {
          "base_uri": "https://localhost:8080/"
        },
        "id": "w1WepXtMBWVs",
        "outputId": "3f05e7a2-d255-405d-c732-c26349bb6b5e"
      },
      "outputs": [
        {
          "output_type": "stream",
          "name": "stdout",
          "text": [
            "Found 7 disagreements for predicted score 0 and relevance score 3\n",
            "The following pair has relevance scores of:\n",
            "relevance    3\n",
            "predicted    0\n",
            "Name: (q21, p4574), dtype: int64\n",
            "\n",
            "Query: what is the name of dehumidifier pumps\n",
            "Document: TACHIAIR 70-Pint Dehumidifier with Pump. Whether it is your room, basement, kitchen,\n",
            "cellar, living space, or your office, The TACHIAIR dehumidifier works exceptionally in all. The wide\n",
            "array of modes and features makes it an exciting device that does its job effortlessly yet\n",
            "flawlessly.\n"
          ]
        }
      ],
      "source": [
        "def print_random_disagreement(\n",
        "    _eval_df, _queries_df, _docs_df, pred_score, rel_score\n",
        ") -> None:\n",
        "    _df = _eval_df.loc[(_eval_df[\"predicted\"] == pred_score) & (_eval_df[\"relevance\"] == rel_score)]\n",
        "    if _df.empty:\n",
        "        print(\n",
        "            f\"No disagreements found for predicted score {pred_score} and relevance score {rel_score}\"\n",
        "        )\n",
        "        return\n",
        "    print(\n",
        "        f\"Found {len(_df)} disagreements for predicted score {pred_score} and relevance score {rel_score}\"\n",
        "    )\n",
        "\n",
        "    # print a random disagreement\n",
        "    qid, docid = _df.sample(n=1).index[0]\n",
        "\n",
        "    print(\n",
        "        f\"The following pair has relevance scores of:\\n{_eval_df.loc[(qid, docid), ['relevance', 'predicted']]}\\n\"\n",
        "    )\n",
        "    print(f'Query: {_queries_df.loc[qid, \"text\"]}')\n",
        "    printw(f'Document: {_docs_df.loc[docid, \"text\"]}')\n",
        "\n",
        "\n",
        "print_random_disagreement(\n",
        "    trec_eval_df,\n",
        "    trec_queries_df,\n",
        "    trec_docs_df,\n",
        "    pred_score=trec_min_rel,\n",
        "    rel_score=trec_max_rel,\n",
        ")"
      ]
    },
    {
      "cell_type": "code",
      "execution_count": null,
      "metadata": {
        "id": "iv2xYs-YozMr"
      },
      "outputs": [],
      "source": [
        "# test with 'gemini-flash-2' takes 3-4 minutes\n",
        "trec_results_2, trec_reasoning_results_2, trec_raw_responses_2 = (\n",
        "    generate_relevance_predictions(\n",
        "        trec_qrels_df,\n",
        "        trec_docs_df,\n",
        "        trec_queries_df,\n",
        "        prompt=umbrella_prompt,\n",
        "        model=MODEL[\"gemini-flash-2\"],\n",
        "    )\n",
        ")"
      ]
    },
    {
      "cell_type": "code",
      "execution_count": null,
      "metadata": {
        "id": "dG80var0pRGB"
      },
      "outputs": [],
      "source": [
        "compute_total_tokens_used(trec_raw_responses_2)"
      ]
    },
    {
      "cell_type": "code",
      "execution_count": null,
      "metadata": {
        "id": "uEOxZIBcpUrp"
      },
      "outputs": [],
      "source": [
        "trec_predictions_df_2 = parse_results_to_df(\n",
        "    trec_results_2,\n",
        "    trec_reasoning_results_2,\n",
        "    scores_range=(trec_min_rel, trec_max_rel),\n",
        ")\n",
        "trec_predictions_df_2"
      ]
    },
    {
      "cell_type": "code",
      "execution_count": null,
      "metadata": {
        "id": "FoU3xdibpbG1"
      },
      "outputs": [],
      "source": [
        "# Evaluate the predictions for the TREC data\n",
        "trec_eval_df_2 = evaluate_relevance_predictions(\n",
        "    trec_predictions_df_2, trec_qrels_df\n",
        ").set_index([\"query_id\", \"doc_id\"])"
      ]
    },
    {
      "cell_type": "code",
      "execution_count": null,
      "metadata": {
        "id": "2ck9ZC-LGa--"
      },
      "outputs": [],
      "source": [
        "print_random_disagreement(\n",
        "    trec_eval_df_2, trec_queries_df, trec_docs_df, pred_score=trec_max_rel, rel_score=trec_min_rel\n",
        ")"
      ]
    },
    {
      "cell_type": "code",
      "execution_count": null,
      "metadata": {
        "id": "MMItCBKcujgn"
      },
      "outputs": [],
      "source": [
        "# test with 'OpenAI: GPT-4o (2024-11-20)' takes 3-4 minutes\n",
        "trec_results_3, trec_reasoning_results_3, trec_raw_responses_3 = (\n",
        "    generate_relevance_predictions(\n",
        "        trec_qrels_df,\n",
        "        trec_docs_df,\n",
        "        trec_queries_df,\n",
        "        prompt=umbrella_prompt,\n",
        "        model=\"openai/gpt-4o-2024-11-20\",\n",
        "    )\n",
        ")"
      ]
    },
    {
      "cell_type": "code",
      "execution_count": null,
      "metadata": {
        "id": "1BsnStLtwoW3"
      },
      "outputs": [],
      "source": [
        "compute_total_tokens_used(trec_raw_responses_3)"
      ]
    },
    {
      "cell_type": "code",
      "execution_count": null,
      "metadata": {
        "id": "Orr6A2BwwZGO"
      },
      "outputs": [],
      "source": [
        "trec_predictions_df_3 = parse_results_to_df(\n",
        "    trec_results_3,\n",
        "    trec_reasoning_results_3,\n",
        "    scores_range=(trec_min_rel, trec_max_rel),\n",
        ")\n",
        "trec_predictions_df_3"
      ]
    },
    {
      "cell_type": "code",
      "execution_count": null,
      "metadata": {
        "id": "ZvczrsBJwr3m"
      },
      "outputs": [],
      "source": [
        "trec_eval_df_3 = evaluate_relevance_predictions(\n",
        "    trec_predictions_df_3, trec_qrels_df\n",
        ").set_index([\"query_id\", \"doc_id\"])"
      ]
    },
    {
      "cell_type": "code",
      "execution_count": null,
      "metadata": {
        "id": "3x06j_Hyw13d"
      },
      "outputs": [],
      "source": [
        "print_random_disagreement(\n",
        "    trec_eval_df_3,\n",
        "    trec_queries_df,\n",
        "    trec_docs_df,\n",
        "    pred_score=trec_min_rel,\n",
        "    rel_score=trec_max_rel,\n",
        ")"
      ]
    }
  ],
  "metadata": {
    "colab": {
      "provenance": [],
      "include_colab_link": true
    },
    "kernelspec": {
      "display_name": "Python 3",
      "name": "python3"
    },
    "language_info": {
      "name": "python"
    }
  },
  "nbformat": 4,
  "nbformat_minor": 0
}